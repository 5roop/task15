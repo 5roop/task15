{
 "cells": [
  {
   "cell_type": "markdown",
   "metadata": {},
   "source": [
    "The objective of this notebook is to fix the party abbreviations in `MP` excel file to correspond to `parties` table."
   ]
  },
  {
   "cell_type": "code",
   "execution_count": 78,
   "metadata": {},
   "outputs": [],
   "source": [
    "import pandas as pd\n",
    "from pathlib import Path\n",
    "from typing import List, Union\n",
    "\n",
    "pd.set_option('display.max_colwidth', None)\n",
    "pd.set_option('display.max_columns', None)\n",
    "pd.set_option('display.max_rows', None)\n",
    "\n",
    "# directory = \"..\"\n",
    "# mp_path = Path(directory) / Path(\"Croatia_MPs_final_ 20220917.xlsx\")\n",
    "# parties_path = Path(directory) / Path(\"Croatia_parties_final_20220917.xlsx\")\n",
    "\n",
    "# mpdf = pd.read_excel(str(mp_path))#.dropna()\n",
    "# partiesdf = pd.read_excel(str(parties_path))\n",
    "\n",
    "import pandas as pd\n",
    "mpdf = pd.read_pickle(\"mpdf\")\n",
    "partiesdf = pd.read_pickle(\"partiesdf\")\n",
    "\n"
   ]
  },
  {
   "cell_type": "markdown",
   "metadata": {},
   "source": [
    "# Let's filter parties that do not appear in the metadata:"
   ]
  },
  {
   "cell_type": "code",
   "execution_count": 79,
   "metadata": {},
   "outputs": [],
   "source": [
    "from functools import lru_cache\n",
    "@lru_cache\n",
    "def is_present(query: str) -> bool:\n",
    "    paths = list(\n",
    "        Path(\"/home/rupnik/parlamint/\").glob(\"*_meta.tsv\"))\n",
    "    for path in paths:\n",
    "        with open(str(path)) as f:\n",
    "            if query in f.read():\n",
    "                return True\n",
    "    return False\n"
   ]
  },
  {
   "cell_type": "code",
   "execution_count": 80,
   "metadata": {},
   "outputs": [
    {
     "data": {
      "text/plain": [
       "True"
      ]
     },
     "execution_count": 80,
     "metadata": {},
     "output_type": "execute_result"
    }
   ],
   "source": [
    "\n",
    "is_present('\"nezavisni\"')"
   ]
  },
  {
   "cell_type": "code",
   "execution_count": 81,
   "metadata": {},
   "outputs": [],
   "source": [
    "# partiesdf[\"party_present\"] = partiesdf.party.apply(lambda s: is_present(f'\"{s}\"'))\n",
    "# partiesdf[\"full_name_present\"] = partiesdf.full_name.apply(lambda s: is_present(f'\"{s}\"'))\n",
    "# mpdf[\"speaker_present\"] = mpdf.fullname.apply(lambda s: is_present(f'\"{s}\"'))\n",
    "\n",
    "# mpdf.to_pickle(\"mpdf\")\n",
    "# partiesdf.to_pickle(\"partiesdf\")"
   ]
  },
  {
   "cell_type": "markdown",
   "metadata": {},
   "source": [
    "Let's drop all parties that do not appear in the metadata neither with their fullname neither with their abbreviation. Also let's drop speakers that do not appear in the metadata or that spoke in Term 4:"
   ]
  },
  {
   "cell_type": "code",
   "execution_count": 82,
   "metadata": {},
   "outputs": [],
   "source": [
    "partiesdf = partiesdf[partiesdf.party_present | partiesdf.full_name_present].reset_index(drop=True)\n",
    "mpdf = mpdf[mpdf.speaker_present & (mpdf.term2 != 4)].reset_index(drop=True)"
   ]
  },
  {
   "cell_type": "markdown",
   "metadata": {},
   "source": [
    "Let's see which values do we have to impute:"
   ]
  },
  {
   "cell_type": "code",
   "execution_count": 83,
   "metadata": {},
   "outputs": [
    {
     "data": {
      "text/plain": [
       "{'Blok',\n",
       " 'Centar',\n",
       " 'Damir Bajs NL',\n",
       " 'Domovinski pokret',\n",
       " 'HKS',\n",
       " 'HSP dr. Ante Starčević',\n",
       " 'Hrvatski suverenisti',\n",
       " 'Most',\n",
       " 'Možemo!',\n",
       " 'NL',\n",
       " 'NZ',\n",
       " 'RF',\n",
       " 'SDA HR',\n",
       " 'SsIP',\n",
       " 'nezavisni'}"
      ]
     },
     "execution_count": 83,
     "metadata": {},
     "output_type": "execute_result"
    }
   ],
   "source": [
    "values_to_fill = set(mpdf.party[mpdf.speaker_present]) - set(partiesdf.party)\n",
    "values_to_fill"
   ]
  },
  {
   "cell_type": "markdown",
   "metadata": {},
   "source": [
    "We can already change NZ to nezavisni and solve one of them:"
   ]
  },
  {
   "cell_type": "code",
   "execution_count": 84,
   "metadata": {},
   "outputs": [],
   "source": [
    "mpdf[\"party\"] = mpdf.party.replace({\n",
    "    \"NZ\": \"nezavisni\"\n",
    "})\n",
    "values_to_fill = set(mpdf.party[mpdf.speaker_present]) - set(partiesdf.party)"
   ]
  },
  {
   "cell_type": "markdown",
   "metadata": {},
   "source": [
    "Approach:\n",
    "\n",
    "For every discrepancy in party abbreviations we look in the respective term and see which party the person belongs to."
   ]
  },
  {
   "cell_type": "code",
   "execution_count": 85,
   "metadata": {},
   "outputs": [
    {
     "data": {
      "text/plain": [
       "1125            LS\n",
       "34768    nezavisni\n",
       "Name: Speaker_party, dtype: object"
      ]
     },
     "execution_count": 85,
     "metadata": {},
     "output_type": "execute_result"
    }
   ],
   "source": [
    "from typing import Union\n",
    "import pandas as pd\n",
    "mpdf[\"party_new\"] = mpdf.party\n",
    "from functools import lru_cache\n",
    "\n",
    "\n",
    "def get_party(name: str, term: Union[str, int]) -> str:\n",
    "    df = pd.read_csv(f\"/home/rupnik/parlamint/{term}_meta.tsv\", sep=\"\\t\", usecols=[\"Term\", \"Speaker_name\", \"Speaker_party\"]).drop_duplicates()\n",
    "    subset = df[df.Speaker_name == name]\n",
    "    subset = subset[subset.Term == int(term)]\n",
    "    \n",
    "    if subset.shape[0] == 1:\n",
    "        return subset.Speaker_party.values[0]\n",
    "    else:\n",
    "        return subset.Speaker_party\n",
    "\n",
    "\n",
    "get_party(\"Banac, Ivo\", 5)"
   ]
  },
  {
   "cell_type": "code",
   "execution_count": 86,
   "metadata": {},
   "outputs": [
    {
     "data": {
      "text/html": [
       "<div>\n",
       "<style scoped>\n",
       "    .dataframe tbody tr th:only-of-type {\n",
       "        vertical-align: middle;\n",
       "    }\n",
       "\n",
       "    .dataframe tbody tr th {\n",
       "        vertical-align: top;\n",
       "    }\n",
       "\n",
       "    .dataframe thead th {\n",
       "        text-align: right;\n",
       "    }\n",
       "</style>\n",
       "<table border=\"1\" class=\"dataframe\">\n",
       "  <thead>\n",
       "    <tr style=\"text-align: right;\">\n",
       "      <th></th>\n",
       "      <th>codemp</th>\n",
       "      <th>order_id</th>\n",
       "      <th>term1</th>\n",
       "      <th>term2</th>\n",
       "      <th>term_id</th>\n",
       "      <th>type_of_list</th>\n",
       "      <th>fullname</th>\n",
       "      <th>firstname</th>\n",
       "      <th>lastname</th>\n",
       "      <th>party</th>\n",
       "      <th>date_of_birth</th>\n",
       "      <th>year_of_birth</th>\n",
       "      <th>gender</th>\n",
       "      <th>place_of_birth</th>\n",
       "      <th>field_of_study</th>\n",
       "      <th>education_y</th>\n",
       "      <th>constituency</th>\n",
       "      <th>bp_lat</th>\n",
       "      <th>bp_lon</th>\n",
       "      <th>speaker_present</th>\n",
       "      <th>party_new</th>\n",
       "    </tr>\n",
       "  </thead>\n",
       "  <tbody>\n",
       "    <tr>\n",
       "      <th>13</th>\n",
       "      <td>M273</td>\n",
       "      <td>206</td>\n",
       "      <td>2003-2007</td>\n",
       "      <td>5</td>\n",
       "      <td>14</td>\n",
       "      <td>normal</td>\n",
       "      <td>Banac, Ivo</td>\n",
       "      <td>Ivo</td>\n",
       "      <td>Banac</td>\n",
       "      <td>nezavisni</td>\n",
       "      <td>19470301</td>\n",
       "      <td>1947</td>\n",
       "      <td>0</td>\n",
       "      <td>Dubrovnik</td>\n",
       "      <td>1</td>\n",
       "      <td>22</td>\n",
       "      <td>6</td>\n",
       "      <td>42.650661</td>\n",
       "      <td>18.094424</td>\n",
       "      <td>True</td>\n",
       "      <td>nezavisni</td>\n",
       "    </tr>\n",
       "  </tbody>\n",
       "</table>\n",
       "</div>"
      ],
      "text/plain": [
       "   codemp  order_id      term1  term2  term_id type_of_list    fullname  \\\n",
       "13   M273       206  2003-2007      5       14       normal  Banac, Ivo   \n",
       "\n",
       "   firstname lastname      party date_of_birth  year_of_birth  gender  \\\n",
       "13       Ivo    Banac  nezavisni      19470301           1947       0   \n",
       "\n",
       "   place_of_birth field_of_study education_y constituency     bp_lat  \\\n",
       "13      Dubrovnik              1          22            6  42.650661   \n",
       "\n",
       "       bp_lon  speaker_present  party_new  \n",
       "13  18.094424             True  nezavisni  "
      ]
     },
     "execution_count": 86,
     "metadata": {},
     "output_type": "execute_result"
    }
   ],
   "source": [
    "mpdf[mpdf.fullname == \"Banac, Ivo\"]"
   ]
  },
  {
   "cell_type": "code",
   "execution_count": 87,
   "metadata": {},
   "outputs": [],
   "source": [
    "mpdf[\"party_new\"] = mpdf.party.copy()\n",
    "mpdf = mpdf.loc[mpdf.speaker_present & (mpdf.term2 != 4)]\n",
    "mpdf = mpdf.reset_index(drop=True)\n",
    "\n",
    "\n",
    "for i, row in mpdf.iterrows():\n",
    "    if row[\"party_new\"] not in values_to_fill:\n",
    "        continue\n",
    "    try:\n",
    "        mpdf.loc[i, \"party_new\"] = get_party(row[\"fullname\"], row[\"term2\"])\n",
    "    except:\n",
    "        continue\n",
    "        mpdf.loc[i, \"party_new\"] = \"\".join(get_party(row[\"fullname\"], row[\"term2\"]))\n"
   ]
  },
  {
   "cell_type": "code",
   "execution_count": 88,
   "metadata": {},
   "outputs": [
    {
     "data": {
      "text/plain": [
       "17"
      ]
     },
     "execution_count": 88,
     "metadata": {},
     "output_type": "execute_result"
    }
   ],
   "source": [
    "mpdf.party_new.str.contains(\" \").sum()"
   ]
  },
  {
   "cell_type": "code",
   "execution_count": 89,
   "metadata": {},
   "outputs": [
    {
     "data": {
      "text/html": [
       "<div>\n",
       "<style scoped>\n",
       "    .dataframe tbody tr th:only-of-type {\n",
       "        vertical-align: middle;\n",
       "    }\n",
       "\n",
       "    .dataframe tbody tr th {\n",
       "        vertical-align: top;\n",
       "    }\n",
       "\n",
       "    .dataframe thead th {\n",
       "        text-align: right;\n",
       "    }\n",
       "</style>\n",
       "<table border=\"1\" class=\"dataframe\">\n",
       "  <thead>\n",
       "    <tr style=\"text-align: right;\">\n",
       "      <th></th>\n",
       "      <th>codemp</th>\n",
       "      <th>order_id</th>\n",
       "      <th>term1</th>\n",
       "      <th>term2</th>\n",
       "      <th>term_id</th>\n",
       "      <th>type_of_list</th>\n",
       "      <th>fullname</th>\n",
       "      <th>firstname</th>\n",
       "      <th>lastname</th>\n",
       "      <th>party</th>\n",
       "      <th>date_of_birth</th>\n",
       "      <th>year_of_birth</th>\n",
       "      <th>gender</th>\n",
       "      <th>place_of_birth</th>\n",
       "      <th>field_of_study</th>\n",
       "      <th>education_y</th>\n",
       "      <th>constituency</th>\n",
       "      <th>bp_lat</th>\n",
       "      <th>bp_lon</th>\n",
       "      <th>speaker_present</th>\n",
       "      <th>party_new</th>\n",
       "    </tr>\n",
       "  </thead>\n",
       "  <tbody>\n",
       "    <tr>\n",
       "      <th>942</th>\n",
       "      <td>M660</td>\n",
       "      <td>1180</td>\n",
       "      <td>2016-2020</td>\n",
       "      <td>9</td>\n",
       "      <td>185</td>\n",
       "      <td>not_active</td>\n",
       "      <td>Marić, Zdravko</td>\n",
       "      <td>Zdravko</td>\n",
       "      <td>Marić</td>\n",
       "      <td>nezavisni</td>\n",
       "      <td>19770203</td>\n",
       "      <td>1977</td>\n",
       "      <td>0</td>\n",
       "      <td>Slavonski Brod</td>\n",
       "      <td>4</td>\n",
       "      <td>22</td>\n",
       "      <td>5</td>\n",
       "      <td>45.163143</td>\n",
       "      <td>18.011608</td>\n",
       "      <td>True</td>\n",
       "      <td>NaN</td>\n",
       "    </tr>\n",
       "    <tr>\n",
       "      <th>1057</th>\n",
       "      <td>M660</td>\n",
       "      <td>1300</td>\n",
       "      <td>2020-2023</td>\n",
       "      <td>10</td>\n",
       "      <td>111</td>\n",
       "      <td>not_active</td>\n",
       "      <td>Marić, Zdravko</td>\n",
       "      <td>Marić</td>\n",
       "      <td>Zdravko</td>\n",
       "      <td>nezavisni</td>\n",
       "      <td>19770203</td>\n",
       "      <td>1977</td>\n",
       "      <td>0</td>\n",
       "      <td>Slavonski Brod</td>\n",
       "      <td>4</td>\n",
       "      <td>22</td>\n",
       "      <td>5</td>\n",
       "      <td>45.163143</td>\n",
       "      <td>18.011608</td>\n",
       "      <td>True</td>\n",
       "      <td>NaN</td>\n",
       "    </tr>\n",
       "  </tbody>\n",
       "</table>\n",
       "</div>"
      ],
      "text/plain": [
       "     codemp  order_id      term1  term2  term_id type_of_list        fullname  \\\n",
       "942    M660      1180  2016-2020      9      185   not_active  Marić, Zdravko   \n",
       "1057   M660      1300  2020-2023     10      111   not_active  Marić, Zdravko   \n",
       "\n",
       "     firstname lastname      party date_of_birth  year_of_birth  gender  \\\n",
       "942    Zdravko    Marić  nezavisni      19770203           1977       0   \n",
       "1057     Marić  Zdravko  nezavisni      19770203           1977       0   \n",
       "\n",
       "      place_of_birth field_of_study education_y constituency     bp_lat  \\\n",
       "942   Slavonski Brod              4          22            5  45.163143   \n",
       "1057  Slavonski Brod              4          22            5  45.163143   \n",
       "\n",
       "         bp_lon  speaker_present party_new  \n",
       "942   18.011608             True       NaN  \n",
       "1057  18.011608             True       NaN  "
      ]
     },
     "execution_count": 89,
     "metadata": {},
     "output_type": "execute_result"
    }
   ],
   "source": [
    "mpdf.loc[mpdf.party_new.isna(),:]"
   ]
  },
  {
   "cell_type": "code",
   "execution_count": 90,
   "metadata": {},
   "outputs": [],
   "source": [
    "mpdf.loc[mpdf.party_new.isna(),:] = \"nezavisni\""
   ]
  },
  {
   "cell_type": "code",
   "execution_count": 91,
   "metadata": {},
   "outputs": [
    {
     "data": {
      "text/plain": [
       "array(['nezavisni', 'Most', 'HKS', 'Hrvatski suverenisti'], dtype=object)"
      ]
     },
     "execution_count": 91,
     "metadata": {},
     "output_type": "execute_result"
    }
   ],
   "source": [
    "mpdf.loc[mpdf.party_new.isin(values_to_fill), \"party_new\"].unique()"
   ]
  },
  {
   "cell_type": "markdown",
   "metadata": {},
   "source": [
    "Nezavisni is to be left alone. I can find `MOST` in the metadata and parties excel, so I can use that.\n",
    "\n",
    "I can't find HKS anywhere (not in the metadata, nor in parties, but I can find it in coalition_composition attributes: `partiesdf[partiesdf.coalition_composition.str.lower().str.contains(\"hks\")]`)\n",
    "\n",
    "Same goes with `Hrvatski suverenisti`: I can't find `suverenisti` nor `HS`  in metadata. For now I'll just convert them to \"HS\", because there is no parties with this abbreviation yet."
   ]
  },
  {
   "cell_type": "code",
   "execution_count": 92,
   "metadata": {},
   "outputs": [
    {
     "data": {
      "text/html": [
       "<div>\n",
       "<style scoped>\n",
       "    .dataframe tbody tr th:only-of-type {\n",
       "        vertical-align: middle;\n",
       "    }\n",
       "\n",
       "    .dataframe tbody tr th {\n",
       "        vertical-align: top;\n",
       "    }\n",
       "\n",
       "    .dataframe thead th {\n",
       "        text-align: right;\n",
       "    }\n",
       "</style>\n",
       "<table border=\"1\" class=\"dataframe\">\n",
       "  <thead>\n",
       "    <tr style=\"text-align: right;\">\n",
       "      <th></th>\n",
       "      <th>codeparty</th>\n",
       "      <th>term1</th>\n",
       "      <th>term2</th>\n",
       "      <th>party</th>\n",
       "      <th>full_name</th>\n",
       "      <th>established</th>\n",
       "      <th>chairman</th>\n",
       "      <th>ideology_LR</th>\n",
       "      <th>party_family</th>\n",
       "      <th>election_result</th>\n",
       "      <th>no_seats</th>\n",
       "      <th>coalition</th>\n",
       "      <th>coalition_composition</th>\n",
       "      <th>ruling</th>\n",
       "      <th>party_present</th>\n",
       "      <th>full_name_present</th>\n",
       "    </tr>\n",
       "  </thead>\n",
       "  <tbody>\n",
       "    <tr>\n",
       "      <th>96</th>\n",
       "      <td>P97</td>\n",
       "      <td>2020-2024</td>\n",
       "      <td>10</td>\n",
       "      <td>MOST</td>\n",
       "      <td>Most nezavisnih lista</td>\n",
       "      <td>2012</td>\n",
       "      <td>Božo Petrov</td>\n",
       "      <td>4</td>\n",
       "      <td>1</td>\n",
       "      <td>7.39</td>\n",
       "      <td>8</td>\n",
       "      <td>0</td>\n",
       "      <td>-</td>\n",
       "      <td>0</td>\n",
       "      <td>True</td>\n",
       "      <td>True</td>\n",
       "    </tr>\n",
       "  </tbody>\n",
       "</table>\n",
       "</div>"
      ],
      "text/plain": [
       "   codeparty      term1  term2 party              full_name  established  \\\n",
       "96       P97  2020-2024     10  MOST  Most nezavisnih lista         2012   \n",
       "\n",
       "       chairman  ideology_LR party_family  election_result  no_seats  \\\n",
       "96  Božo Petrov            4            1             7.39         8   \n",
       "\n",
       "    coalition coalition_composition  ruling  party_present  full_name_present  \n",
       "96          0                     -       0           True               True  "
      ]
     },
     "execution_count": 92,
     "metadata": {},
     "output_type": "execute_result"
    }
   ],
   "source": [
    "partiesdf[partiesdf.party == \"MOST\"].sample()"
   ]
  },
  {
   "cell_type": "code",
   "execution_count": 93,
   "metadata": {},
   "outputs": [],
   "source": [
    "mpdf[\"party\"] = mpdf.party.replace({\n",
    "    \"Most\": \"MOST\",\n",
    "    \"Hrvatski laburisti\": \"HS\",\n",
    "})"
   ]
  },
  {
   "cell_type": "code",
   "execution_count": 94,
   "metadata": {},
   "outputs": [],
   "source": [
    "mpdf.to_pickle(\"mpdf_corrected\")\n",
    "partiesdf.to_pickle(\"partiesdf_corrected\")"
   ]
  },
  {
   "cell_type": "code",
   "execution_count": null,
   "metadata": {},
   "outputs": [],
   "source": []
  }
 ],
 "metadata": {
  "kernelspec": {
   "display_name": "Python 3.9.7 ('base')",
   "language": "python",
   "name": "python3"
  },
  "language_info": {
   "codemirror_mode": {
    "name": "ipython",
    "version": 3
   },
   "file_extension": ".py",
   "mimetype": "text/x-python",
   "name": "python",
   "nbconvert_exporter": "python",
   "pygments_lexer": "ipython3",
   "version": "3.9.7"
  },
  "orig_nbformat": 4,
  "vscode": {
   "interpreter": {
    "hash": "2d30c88cb7145d662123f76f8c64609bc18e52940d2861adec2407b68f2e334f"
   }
  }
 },
 "nbformat": 4,
 "nbformat_minor": 2
}
