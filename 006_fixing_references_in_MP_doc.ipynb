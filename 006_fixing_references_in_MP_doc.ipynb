{
 "cells": [
  {
   "cell_type": "markdown",
   "metadata": {},
   "source": [
    "The objective of this notebook is to fix the party abbreviations in `MP` excel file to correspond to `parties` table."
   ]
  },
  {
   "cell_type": "code",
   "execution_count": 24,
   "metadata": {},
   "outputs": [],
   "source": [
    "import pandas as pd\n",
    "from pathlib import Path\n",
    "from typing import List, Union\n",
    "\n",
    "pd.set_option('display.max_colwidth', None)\n",
    "pd.set_option('display.max_columns', None)\n",
    "pd.set_option('display.max_rows', None)\n",
    "\n",
    "directory = \"..\"\n",
    "mp_path = Path(directory) / Path(\"Croatia_MPs_final_ 20220917.xlsx\")\n",
    "parties_path = Path(directory) / Path(\"Croatia_parties_final_20220917.xlsx\")\n",
    "\n",
    "mpdf = pd.read_excel(str(mp_path))#.dropna()\n",
    "partiesdf = pd.read_excel(str(parties_path))\n",
    "\n",
    "# import pandas as pd\n",
    "# mpdf = pd.read_pickle(\"mpdf\")\n",
    "# partiesdf = pd.read_pickle(\"partiesdf\")\n",
    "\n"
   ]
  },
  {
   "cell_type": "markdown",
   "metadata": {},
   "source": [
    "# Let's filter parties that do not appear in the metadata:"
   ]
  },
  {
   "cell_type": "code",
   "execution_count": 26,
   "metadata": {},
   "outputs": [
    {
     "name": "stderr",
     "output_type": "stream",
     "text": [
      "100%|██████████| 110/110 [00:02<00:00, 46.85it/s]\n",
      "100%|██████████| 110/110 [00:02<00:00, 46.59it/s]\n",
      "100%|██████████| 1385/1385 [00:48<00:00, 28.71it/s]\n"
     ]
    }
   ],
   "source": [
    "import pandas as pd\n",
    "from pathlib import Path\n",
    "from typing import List, Union\n",
    "\n",
    "pd.set_option('display.max_colwidth', None)\n",
    "pd.set_option('display.max_columns', None)\n",
    "pd.set_option('display.max_rows', None)\n",
    "\n",
    "directory = \"..\"\n",
    "mp_path = Path(directory) / Path(\"Croatia_MPs_final_ 20220917.xlsx\")\n",
    "parties_path = Path(directory) / Path(\"Croatia_parties_final_20220917.xlsx\")\n",
    "\n",
    "mpdf = pd.read_excel(str(mp_path))\n",
    "partiesdf = pd.read_excel(str(parties_path))\n",
    "\n",
    "def is_present(query: str, contents=None) -> bool:\n",
    "    paths = list(\n",
    "        Path(\"/home/rupnik/parlamint/\").glob(\"*_meta.tsv\"))\n",
    "    if not contents:\n",
    "        for path in paths:\n",
    "            with open(str(path)) as f:\n",
    "                if query in f.read():\n",
    "                    return True\n",
    "    else:\n",
    "        for c in contents:\n",
    "            if query in c:\n",
    "                return True\n",
    "    return False\n",
    "\n",
    "contents = []\n",
    "paths = list(Path(\"/home/rupnik/parlamint/\").glob(\"*_meta.tsv\"))\n",
    "for p in paths:\n",
    "    with open(str(p)) as f:\n",
    "        contents.append(f.read())\n",
    "\n",
    "from tqdm import tqdm\n",
    "tqdm.pandas()\n",
    "\n",
    "partiesdf[\"party_present\"] = partiesdf.party.progress_apply(lambda s: is_present(f'{s}', contents=contents))\n",
    "partiesdf[\"full_name_present\"] = partiesdf.full_name.progress_apply(lambda s: is_present(f'{s}', contents=contents))\n",
    "mpdf[\"speaker_present\"] = mpdf.fullname.progress_apply(lambda s: is_present(f'{s}', contents=contents))\n",
    "mpdf.to_pickle(\"mpdf\")\n",
    "partiesdf.to_pickle(\"partiesdf\")"
   ]
  },
  {
   "cell_type": "markdown",
   "metadata": {},
   "source": [
    "Let's drop all parties that do not appear in the metadata neither with their fullname neither with their abbreviation. Also let's drop speakers that do not appear in the metadata or that spoke in Term 4:"
   ]
  },
  {
   "cell_type": "code",
   "execution_count": 27,
   "metadata": {},
   "outputs": [],
   "source": [
    "partiesdf = partiesdf[partiesdf.party_present | partiesdf.full_name_present].reset_index(drop=True)\n",
    "mpdf = mpdf[mpdf.speaker_present & (mpdf.term2 != 4)].reset_index(drop=True)"
   ]
  },
  {
   "cell_type": "markdown",
   "metadata": {},
   "source": [
    "Let's see which values do we have to impute:"
   ]
  },
  {
   "cell_type": "code",
   "execution_count": 28,
   "metadata": {},
   "outputs": [
    {
     "data": {
      "text/plain": [
       "{'Blok',\n",
       " 'Centar',\n",
       " 'Damir Bajs NL',\n",
       " 'Domovinski pokret',\n",
       " 'HKS',\n",
       " 'HSP dr. Ante Starčević',\n",
       " 'Hrvatski suverenisti',\n",
       " 'Most',\n",
       " 'Možemo!',\n",
       " 'NL',\n",
       " 'NZ',\n",
       " 'RF',\n",
       " 'SDA HR',\n",
       " 'SsIP',\n",
       " nan,\n",
       " 'nezavisni'}"
      ]
     },
     "execution_count": 28,
     "metadata": {},
     "output_type": "execute_result"
    }
   ],
   "source": [
    "values_to_fill = set(mpdf.party[mpdf.speaker_present]) - set(partiesdf.party)\n",
    "values_to_fill"
   ]
  },
  {
   "cell_type": "markdown",
   "metadata": {},
   "source": [
    "We can already change NZ to nezavisni and solve one of them:"
   ]
  },
  {
   "cell_type": "code",
   "execution_count": 29,
   "metadata": {},
   "outputs": [],
   "source": [
    "mpdf[\"party\"] = mpdf.party.replace({\n",
    "    \"NZ\": \"nezavisni\"\n",
    "})\n",
    "values_to_fill = set(mpdf.party[mpdf.speaker_present]) - set(partiesdf.party)"
   ]
  },
  {
   "cell_type": "markdown",
   "metadata": {},
   "source": [
    "Approach:\n",
    "\n",
    "For every discrepancy in party abbreviations we look in the respective term and see which party the person belongs to."
   ]
  },
  {
   "cell_type": "code",
   "execution_count": 30,
   "metadata": {},
   "outputs": [],
   "source": [
    "from typing import Union\n",
    "import pandas as pd\n",
    "mpdf[\"party_new\"] = mpdf.party\n",
    "from functools import lru_cache\n",
    "\n",
    "@lru_cache\n",
    "def get_party(name: str, term: Union[str, int]) -> str:\n",
    "    df = pd.read_csv(f\"/home/rupnik/parlamint/{term}_meta.tsv\", sep=\"\\t\", usecols=[\"Term\", \"Speaker_name\", \"Speaker_party\"]).drop_duplicates()\n",
    "    subset = df[df.Speaker_name == name]\n",
    "    subset = subset[subset.Term == int(term)]\n",
    "    \n",
    "    if subset.shape[0] == 1:\n",
    "        return subset.Speaker_party.values[0]\n",
    "    else:\n",
    "        return subset.Speaker_party"
   ]
  },
  {
   "cell_type": "code",
   "execution_count": 31,
   "metadata": {},
   "outputs": [],
   "source": [
    "mpdf[\"party_new\"] = mpdf.party.copy()\n",
    "mpdf = mpdf.loc[mpdf.speaker_present & (mpdf.term2 != 4)]\n",
    "mpdf = mpdf.reset_index(drop=True)\n",
    "\n",
    "\n",
    "for i, row in mpdf.iterrows():\n",
    "    if row[\"party_new\"] not in values_to_fill:\n",
    "        continue\n",
    "    try:\n",
    "        mpdf.loc[i, \"party_new\"] = get_party(row[\"fullname\"], row[\"term2\"])\n",
    "    except:\n",
    "        continue"
   ]
  },
  {
   "cell_type": "code",
   "execution_count": 32,
   "metadata": {},
   "outputs": [
    {
     "data": {
      "text/html": [
       "<div>\n",
       "<style scoped>\n",
       "    .dataframe tbody tr th:only-of-type {\n",
       "        vertical-align: middle;\n",
       "    }\n",
       "\n",
       "    .dataframe tbody tr th {\n",
       "        vertical-align: top;\n",
       "    }\n",
       "\n",
       "    .dataframe thead th {\n",
       "        text-align: right;\n",
       "    }\n",
       "</style>\n",
       "<table border=\"1\" class=\"dataframe\">\n",
       "  <thead>\n",
       "    <tr style=\"text-align: right;\">\n",
       "      <th></th>\n",
       "      <th>codemp</th>\n",
       "      <th>order_id</th>\n",
       "      <th>term1</th>\n",
       "      <th>term2</th>\n",
       "      <th>term_id</th>\n",
       "      <th>type_of_list</th>\n",
       "      <th>fullname</th>\n",
       "      <th>firstname</th>\n",
       "      <th>lastname</th>\n",
       "      <th>party</th>\n",
       "      <th>date_of_birth</th>\n",
       "      <th>year_of_birth</th>\n",
       "      <th>gender</th>\n",
       "      <th>place_of_birth</th>\n",
       "      <th>field_of_study</th>\n",
       "      <th>education_y</th>\n",
       "      <th>constituency</th>\n",
       "      <th>bp_lat</th>\n",
       "      <th>bp_lon</th>\n",
       "      <th>speaker_present</th>\n",
       "      <th>party_new</th>\n",
       "    </tr>\n",
       "  </thead>\n",
       "  <tbody>\n",
       "    <tr>\n",
       "      <th>943</th>\n",
       "      <td>M660</td>\n",
       "      <td>1180</td>\n",
       "      <td>2016-2020</td>\n",
       "      <td>9</td>\n",
       "      <td>185</td>\n",
       "      <td>not_active</td>\n",
       "      <td>Marić, Zdravko</td>\n",
       "      <td>Zdravko</td>\n",
       "      <td>Marić</td>\n",
       "      <td>nezavisni</td>\n",
       "      <td>19770203</td>\n",
       "      <td>1977</td>\n",
       "      <td>0</td>\n",
       "      <td>Slavonski Brod</td>\n",
       "      <td>4</td>\n",
       "      <td>22</td>\n",
       "      <td>5</td>\n",
       "      <td>45.163143</td>\n",
       "      <td>18.011608</td>\n",
       "      <td>True</td>\n",
       "      <td>NaN</td>\n",
       "    </tr>\n",
       "    <tr>\n",
       "      <th>983</th>\n",
       "      <td>M335</td>\n",
       "      <td>1224</td>\n",
       "      <td>2020-2023</td>\n",
       "      <td>10</td>\n",
       "      <td>35</td>\n",
       "      <td>not_active</td>\n",
       "      <td>Bubalo, Krešimir</td>\n",
       "      <td>Bubalo</td>\n",
       "      <td>Krešimir</td>\n",
       "      <td>NaN</td>\n",
       "      <td>19731105</td>\n",
       "      <td>1973</td>\n",
       "      <td>0</td>\n",
       "      <td>Osijek</td>\n",
       "      <td>4</td>\n",
       "      <td>16</td>\n",
       "      <td>4</td>\n",
       "      <td>45.554962</td>\n",
       "      <td>18.695514</td>\n",
       "      <td>True</td>\n",
       "      <td>NaN</td>\n",
       "    </tr>\n",
       "    <tr>\n",
       "      <th>1058</th>\n",
       "      <td>M660</td>\n",
       "      <td>1300</td>\n",
       "      <td>2020-2023</td>\n",
       "      <td>10</td>\n",
       "      <td>111</td>\n",
       "      <td>not_active</td>\n",
       "      <td>Marić, Zdravko</td>\n",
       "      <td>Marić</td>\n",
       "      <td>Zdravko</td>\n",
       "      <td>nezavisni</td>\n",
       "      <td>19770203</td>\n",
       "      <td>1977</td>\n",
       "      <td>0</td>\n",
       "      <td>Slavonski Brod</td>\n",
       "      <td>4</td>\n",
       "      <td>22</td>\n",
       "      <td>5</td>\n",
       "      <td>45.163143</td>\n",
       "      <td>18.011608</td>\n",
       "      <td>True</td>\n",
       "      <td>NaN</td>\n",
       "    </tr>\n",
       "  </tbody>\n",
       "</table>\n",
       "</div>"
      ],
      "text/plain": [
       "     codemp  order_id      term1  term2  term_id type_of_list  \\\n",
       "943    M660      1180  2016-2020      9      185   not_active   \n",
       "983    M335      1224  2020-2023     10       35   not_active   \n",
       "1058   M660      1300  2020-2023     10      111   not_active   \n",
       "\n",
       "              fullname firstname  lastname      party date_of_birth  \\\n",
       "943     Marić, Zdravko   Zdravko     Marić  nezavisni      19770203   \n",
       "983   Bubalo, Krešimir    Bubalo  Krešimir        NaN      19731105   \n",
       "1058    Marić, Zdravko     Marić   Zdravko  nezavisni      19770203   \n",
       "\n",
       "      year_of_birth  gender  place_of_birth field_of_study education_y  \\\n",
       "943            1977       0  Slavonski Brod              4          22   \n",
       "983            1973       0          Osijek              4          16   \n",
       "1058           1977       0  Slavonski Brod              4          22   \n",
       "\n",
       "     constituency     bp_lat     bp_lon  speaker_present party_new  \n",
       "943             5  45.163143  18.011608             True       NaN  \n",
       "983             4  45.554962  18.695514             True       NaN  \n",
       "1058            5  45.163143  18.011608             True       NaN  "
      ]
     },
     "execution_count": 32,
     "metadata": {},
     "output_type": "execute_result"
    }
   ],
   "source": [
    "mpdf.loc[mpdf.party_new.isna(),:]"
   ]
  },
  {
   "cell_type": "code",
   "execution_count": 33,
   "metadata": {},
   "outputs": [
    {
     "data": {
      "text/html": [
       "<div>\n",
       "<style scoped>\n",
       "    .dataframe tbody tr th:only-of-type {\n",
       "        vertical-align: middle;\n",
       "    }\n",
       "\n",
       "    .dataframe tbody tr th {\n",
       "        vertical-align: top;\n",
       "    }\n",
       "\n",
       "    .dataframe thead th {\n",
       "        text-align: right;\n",
       "    }\n",
       "</style>\n",
       "<table border=\"1\" class=\"dataframe\">\n",
       "  <thead>\n",
       "    <tr style=\"text-align: right;\">\n",
       "      <th></th>\n",
       "      <th>codemp</th>\n",
       "      <th>order_id</th>\n",
       "      <th>term1</th>\n",
       "      <th>term2</th>\n",
       "      <th>term_id</th>\n",
       "      <th>type_of_list</th>\n",
       "      <th>fullname</th>\n",
       "      <th>firstname</th>\n",
       "      <th>lastname</th>\n",
       "      <th>party</th>\n",
       "      <th>date_of_birth</th>\n",
       "      <th>year_of_birth</th>\n",
       "      <th>gender</th>\n",
       "      <th>place_of_birth</th>\n",
       "      <th>field_of_study</th>\n",
       "      <th>education_y</th>\n",
       "      <th>constituency</th>\n",
       "      <th>bp_lat</th>\n",
       "      <th>bp_lon</th>\n",
       "      <th>speaker_present</th>\n",
       "      <th>party_new</th>\n",
       "    </tr>\n",
       "  </thead>\n",
       "  <tbody>\n",
       "  </tbody>\n",
       "</table>\n",
       "</div>"
      ],
      "text/plain": [
       "Empty DataFrame\n",
       "Columns: [codemp, order_id, term1, term2, term_id, type_of_list, fullname, firstname, lastname, party, date_of_birth, year_of_birth, gender, place_of_birth, field_of_study, education_y, constituency, bp_lat, bp_lon, speaker_present, party_new]\n",
       "Index: []"
      ]
     },
     "execution_count": 33,
     "metadata": {},
     "output_type": "execute_result"
    }
   ],
   "source": [
    "#Set Marić, Zdravko to nezavisni:\n",
    "mpdf.loc[(mpdf.fullname == \"Marić, Zdravko\") & mpdf.party_new.isna(),\"party_new\"] = \"nezavisni\"\n",
    "\n",
    "# Set Bubalo, Krešimir to DP (according to wikipedia)\n",
    "mpdf.loc[(mpdf.fullname == \"Bubalo, Krešimir\") & mpdf.party_new.isna(),\"party_new\"] = \"DP\"\n",
    "\n",
    "mpdf.loc[mpdf.party_new.isna(),:]\n"
   ]
  },
  {
   "cell_type": "code",
   "execution_count": 34,
   "metadata": {},
   "outputs": [
    {
     "data": {
      "text/plain": [
       "array(['nezavisni', 'Most', 'HKS', 'Hrvatski suverenisti'], dtype=object)"
      ]
     },
     "execution_count": 34,
     "metadata": {},
     "output_type": "execute_result"
    }
   ],
   "source": [
    "mpdf.loc[mpdf.party_new.isin(values_to_fill), \"party_new\"].unique()"
   ]
  },
  {
   "cell_type": "markdown",
   "metadata": {},
   "source": [
    "Nezavisni is to be left alone. I can find `MOST` in the metadata and parties excel, so I can use that.\n",
    "\n",
    "I can't find HKS anywhere (not in the metadata, nor in parties, but I can find it in coalition_composition attributes: `partiesdf[partiesdf.coalition_composition.str.lower().str.contains(\"hks\")]`)\n",
    "\n",
    "Same goes with `Hrvatski suverenisti`: I can't find `suverenisti` nor `HS`  in metadata. For now I'll just convert them to \"HSu\", because there is no parties with this abbreviation yet."
   ]
  },
  {
   "cell_type": "code",
   "execution_count": 35,
   "metadata": {},
   "outputs": [
    {
     "data": {
      "text/html": [
       "<div>\n",
       "<style scoped>\n",
       "    .dataframe tbody tr th:only-of-type {\n",
       "        vertical-align: middle;\n",
       "    }\n",
       "\n",
       "    .dataframe tbody tr th {\n",
       "        vertical-align: top;\n",
       "    }\n",
       "\n",
       "    .dataframe thead th {\n",
       "        text-align: right;\n",
       "    }\n",
       "</style>\n",
       "<table border=\"1\" class=\"dataframe\">\n",
       "  <thead>\n",
       "    <tr style=\"text-align: right;\">\n",
       "      <th></th>\n",
       "      <th>codeparty</th>\n",
       "      <th>term1</th>\n",
       "      <th>term2</th>\n",
       "      <th>party</th>\n",
       "      <th>full_name</th>\n",
       "      <th>established</th>\n",
       "      <th>chairman</th>\n",
       "      <th>ideology_LR</th>\n",
       "      <th>party_family</th>\n",
       "      <th>election_result</th>\n",
       "      <th>no_seats</th>\n",
       "      <th>coalition</th>\n",
       "      <th>coalition_composition</th>\n",
       "      <th>ruling</th>\n",
       "      <th>party_present</th>\n",
       "      <th>full_name_present</th>\n",
       "    </tr>\n",
       "  </thead>\n",
       "  <tbody>\n",
       "    <tr>\n",
       "      <th>62</th>\n",
       "      <td>P63</td>\n",
       "      <td>2015-2016</td>\n",
       "      <td>8</td>\n",
       "      <td>MOST</td>\n",
       "      <td>Most nezavisnih lista</td>\n",
       "      <td>2012</td>\n",
       "      <td>Božo Petrov</td>\n",
       "      <td>4</td>\n",
       "      <td>1</td>\n",
       "      <td>13.64</td>\n",
       "      <td>19</td>\n",
       "      <td>0</td>\n",
       "      <td>-</td>\n",
       "      <td>1</td>\n",
       "      <td>True</td>\n",
       "      <td>True</td>\n",
       "    </tr>\n",
       "  </tbody>\n",
       "</table>\n",
       "</div>"
      ],
      "text/plain": [
       "   codeparty      term1  term2 party              full_name  established  \\\n",
       "62       P63  2015-2016      8  MOST  Most nezavisnih lista         2012   \n",
       "\n",
       "       chairman  ideology_LR party_family  election_result  no_seats  \\\n",
       "62  Božo Petrov            4            1            13.64        19   \n",
       "\n",
       "    coalition coalition_composition  ruling  party_present  full_name_present  \n",
       "62          0                     -       1           True               True  "
      ]
     },
     "execution_count": 35,
     "metadata": {},
     "output_type": "execute_result"
    }
   ],
   "source": [
    "partiesdf[partiesdf.party == \"MOST\"].sample()"
   ]
  },
  {
   "cell_type": "code",
   "execution_count": 36,
   "metadata": {},
   "outputs": [],
   "source": [
    "mpdf[\"party_new\"] = mpdf.party_new.replace({\n",
    "    \"Most\": \"MOST\",\n",
    "    \"Hrvatski suverenisti\": \"HS\",\n",
    "    \"Nezavisni\": \"nezavisni\",\n",
    "})"
   ]
  },
  {
   "cell_type": "code",
   "execution_count": 37,
   "metadata": {},
   "outputs": [],
   "source": [
    "mpdf[\"party\"] = mpdf.party_new\n",
    "mpdf = mpdf.drop(columns=[\"party_new\", 'speaker_present'])\n",
    "mpdf.to_pickle(\"mpdf_corrected\")\n",
    "partiesdf.to_pickle(\"partiesdf_corrected\")"
   ]
  }
 ],
 "metadata": {
  "kernelspec": {
   "display_name": "Python 3.9.7 ('base')",
   "language": "python",
   "name": "python3"
  },
  "language_info": {
   "codemirror_mode": {
    "name": "ipython",
    "version": 3
   },
   "file_extension": ".py",
   "mimetype": "text/x-python",
   "name": "python",
   "nbconvert_exporter": "python",
   "pygments_lexer": "ipython3",
   "version": "3.9.7 (default, Sep 16 2021, 13:09:58) \n[GCC 7.5.0]"
  },
  "orig_nbformat": 4,
  "vscode": {
   "interpreter": {
    "hash": "2d30c88cb7145d662123f76f8c64609bc18e52940d2861adec2407b68f2e334f"
   }
  }
 },
 "nbformat": 4,
 "nbformat_minor": 2
}
