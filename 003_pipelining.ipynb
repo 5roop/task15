{
 "cells": [
  {
   "cell_type": "code",
   "execution_count": 6,
   "metadata": {},
   "outputs": [
    {
     "name": "stderr",
     "output_type": "stream",
     "text": [
      "  0%|          | 0/96743 [00:00<?, ?it/s]2022-10-10 08:28:15 INFO: Loading these models for language: hr (Croatian):\n",
      "========================\n",
      "| Processor | Package  |\n",
      "------------------------\n",
      "| tokenize  | standard |\n",
      "========================\n",
      "\n",
      "2022-10-10 08:28:15 INFO: Use device: cpu\n",
      "2022-10-10 08:28:15 INFO: Loading: tokenize\n",
      "2022-10-10 08:28:15 INFO: Done loading processors!\n",
      " 32%|███▏      | 30803/96743 [04:38<29:08, 37.70it/s] "
     ]
    }
   ],
   "source": [
    "from pathlib import Path\n",
    "from tempfile import NamedTemporaryFile\n",
    "from utils import prepare_interim_files, construct_TEI\n",
    "\n",
    "directory = \"..\"\n",
    "\n",
    "for xmlid in range(5, 11):\n",
    "    text_path = Path(directory) / (str(xmlid) + \"_text.txt\")\n",
    "    meta_path = Path(directory) / (str(xmlid) + \"_meta.tsv\")\n",
    "    mp_path = Path(directory) / Path(\"Croatia_MPs_final_ 20220917.xlsx\")\n",
    "    parties_path = Path(directory) / Path(\"Croatia_parties_final_20220917.xlsx\")\n",
    "    \n",
    "    merged_file = NamedTemporaryFile()\n",
    "    prepare_interim_files(\n",
    "        text_path = text_path,\n",
    "        meta_path = meta_path,\n",
    "        mp_path = mp_path,\n",
    "        parties_path= parties_path,\n",
    "        out_file = merged_file.name\n",
    "    )\n",
    "    \n",
    "    construct_TEI(\n",
    "        pickled_file=merge_file.name,\n",
    "        file_index=xmlid,\n",
    "        outfile=Path(\"./T/\") / f\"ParlaMint-HR_T{xmlid:02}.xml\"\n",
    "        )"
   ]
  },
  {
   "cell_type": "code",
   "execution_count": 4,
   "metadata": {},
   "outputs": [
    {
     "data": {
      "text/plain": [
       "PosixPath('T/ParlaMint-HR_05.xml')"
      ]
     },
     "execution_count": 4,
     "metadata": {},
     "output_type": "execute_result"
    }
   ],
   "source": [
    "Path(\"./T/\") / \"ParlaMint-HR_05.xml\""
   ]
  },
  {
   "cell_type": "code",
   "execution_count": 3,
   "metadata": {},
   "outputs": [
    {
     "data": {
      "text/plain": [
       "True"
      ]
     },
     "execution_count": 3,
     "metadata": {},
     "output_type": "execute_result"
    }
   ],
   "source": [
    "from pathlib import Path\n",
    "Path(f.name).exists()"
   ]
  },
  {
   "cell_type": "code",
   "execution_count": null,
   "metadata": {},
   "outputs": [],
   "source": []
  }
 ],
 "metadata": {
  "kernelspec": {
   "display_name": "Python 3.9.7 ('base')",
   "language": "python",
   "name": "python3"
  },
  "language_info": {
   "codemirror_mode": {
    "name": "ipython",
    "version": 3
   },
   "file_extension": ".py",
   "mimetype": "text/x-python",
   "name": "python",
   "nbconvert_exporter": "python",
   "pygments_lexer": "ipython3",
   "version": "3.9.7"
  },
  "orig_nbformat": 4,
  "vscode": {
   "interpreter": {
    "hash": "2d30c88cb7145d662123f76f8c64609bc18e52940d2861adec2407b68f2e334f"
   }
  }
 },
 "nbformat": 4,
 "nbformat_minor": 2
}
