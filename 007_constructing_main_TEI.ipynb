{
 "cells": [
  {
   "cell_type": "markdown",
   "metadata": {},
   "source": [
    "# What needs doing:\n",
    "\n",
    "* Count all words and sentences from all terms ✓\n",
    "* Get term limits from wikipedia ✓\n",
    "* Count occurences of body, desc, kinesic... items ✓\n",
    "\n",
    "# Questions for Tomaž/Nikola:\n",
    "\n",
    "* How is validation run?\n",
    "* Do we need to follow the per-term directory and file structure (e.g. ParlaSpeech-HR) or can we preserve the current structure?\n",
    "* What is the deal with relations, coalition field `mutual` for party listing while opposition has `active` and a field `passive #government.hr`?\n",
    "* I don't have the education title (e.g. `<education n=\"6\">stručni prvostupnik sestrinstva</education>`), only years of education.\n",
    "* I don't have the exact dates of terms. I can only infer them from the rest of the data I have (I estimate it from the dates of speeches.)\n",
    "* I get different data for coalition-opposition formations than in the existing main TEI files for term 9.\n",
    "* I need the affiliation>roles, but they are not in the MP datasheet.\n",
    "\n",
    "Tomaž:\n",
    "* Education titles and `n` parameter?\n",
    "* How to date ongoing terms?"
   ]
  },
  {
   "cell_type": "code",
   "execution_count": 58,
   "metadata": {},
   "outputs": [],
   "source": [
    "from typing import Union, List\n",
    "from pathlib import Path\n",
    "import pandas as pd\n",
    "pd.set_option('display.max_colwidth', None)\n",
    "pd.set_option('display.max_columns', None)\n",
    "pd.set_option('display.max_rows', None)\n",
    "import pandas as pd\n",
    "\n",
    "mpdf = pd.read_pickle(\"mpdf_corrected\")\n",
    "partiesdf = pd.read_pickle(\"partiesdf_corrected\")\n",
    "termdata = pd.read_csv(\"../terms.csv\").set_index(\"Term\")\n",
    "\n",
    "def transform_abbreviation(s: str) -> str:\n",
    "    return f\"party.{s.replace(' ', '_').upper()}\"\n"
   ]
  },
  {
   "cell_type": "code",
   "execution_count": 59,
   "metadata": {},
   "outputs": [
    {
     "data": {
      "text/plain": [
       "array(['nezavisni', 'HKS', 'HS'], dtype=object)"
      ]
     },
     "execution_count": 59,
     "metadata": {},
     "output_type": "execute_result"
    }
   ],
   "source": [
    "# set(mpdf.party.unique()) - set(partiesdf.party.unique())\n",
    "mpdf.party[~mpdf.party.isin(partiesdf.party)].unique()"
   ]
  },
  {
   "cell_type": "markdown",
   "metadata": {},
   "source": [
    "# Preparing persons:"
   ]
  },
  {
   "cell_type": "code",
   "execution_count": 60,
   "metadata": {},
   "outputs": [],
   "source": [
    "from xml.etree.ElementTree import Element, SubElement, tostring, XML, parse\n",
    "from xml.dom import minidom\n",
    "def pretty_print(s) -> None:\n",
    "    print(minidom.parseString(tostring(s).decode(\"utf\")).toprettyxml(\"\\t\"))\n",
    "def pretty_string(s) -> None:\n",
    "    return minidom.parseString(tostring(s).decode(\"utf\")).toprettyxml(\"\\t\")"
   ]
  },
  {
   "cell_type": "code",
   "execution_count": 61,
   "metadata": {},
   "outputs": [
    {
     "data": {
      "text/plain": [
       "array(['DC', 'HDSSB', 'HDZ', 'HNS', 'HSLS', 'HSP', 'HSS', 'HSU', 'IDS',\n",
       "       'LIBRA', 'LS', 'MDS', 'PGS', 'SBHS', 'SDAH', 'SDP', 'SDSS',\n",
       "       'Hrvatski laburisti', 'HSD', 'BDSH', 'HGS', 'HSP AS', 'ID',\n",
       "       'Naprijed Hrvatska!', 'Novi val', 'ORaH', 'Reformisti', 'BM365',\n",
       "       'BUZ', 'HDS', 'HRAST', 'HRID', 'MOST', 'NLSP', 'PH', 'Živi zid',\n",
       "       'GLAS', 'SMSH', 'SNAGA', 'DP', 'ZK', 'SIP', 'Pametno', 'Fokus'],\n",
       "      dtype=object)"
      ]
     },
     "execution_count": 61,
     "metadata": {},
     "output_type": "execute_result"
    }
   ],
   "source": [
    "partiesdf.party.unique()"
   ]
  },
  {
   "cell_type": "code",
   "execution_count": 62,
   "metadata": {},
   "outputs": [
    {
     "data": {
      "text/html": [
       "<div>\n",
       "<style scoped>\n",
       "    .dataframe tbody tr th:only-of-type {\n",
       "        vertical-align: middle;\n",
       "    }\n",
       "\n",
       "    .dataframe tbody tr th {\n",
       "        vertical-align: top;\n",
       "    }\n",
       "\n",
       "    .dataframe thead th {\n",
       "        text-align: right;\n",
       "    }\n",
       "</style>\n",
       "<table border=\"1\" class=\"dataframe\">\n",
       "  <thead>\n",
       "    <tr style=\"text-align: right;\">\n",
       "      <th></th>\n",
       "      <th>From</th>\n",
       "      <th>To</th>\n",
       "    </tr>\n",
       "    <tr>\n",
       "      <th>Term</th>\n",
       "      <th></th>\n",
       "      <th></th>\n",
       "    </tr>\n",
       "  </thead>\n",
       "  <tbody>\n",
       "    <tr>\n",
       "      <th>5</th>\n",
       "      <td>2003-12-22</td>\n",
       "      <td>2007-10-12</td>\n",
       "    </tr>\n",
       "    <tr>\n",
       "      <th>6</th>\n",
       "      <td>2008-01-11</td>\n",
       "      <td>2011-10-28</td>\n",
       "    </tr>\n",
       "    <tr>\n",
       "      <th>7</th>\n",
       "      <td>2011-12-22</td>\n",
       "      <td>2015-09-25</td>\n",
       "    </tr>\n",
       "    <tr>\n",
       "      <th>8</th>\n",
       "      <td>2015-12-03</td>\n",
       "      <td>2016-07-15</td>\n",
       "    </tr>\n",
       "    <tr>\n",
       "      <th>9</th>\n",
       "      <td>2016-10-14</td>\n",
       "      <td>2022-05-18</td>\n",
       "    </tr>\n",
       "    <tr>\n",
       "      <th>10</th>\n",
       "      <td>2022-07-22</td>\n",
       "      <td>ongoing</td>\n",
       "    </tr>\n",
       "  </tbody>\n",
       "</table>\n",
       "</div>"
      ],
      "text/plain": [
       "            From          To\n",
       "Term                        \n",
       "5     2003-12-22  2007-10-12\n",
       "6     2008-01-11  2011-10-28\n",
       "7     2011-12-22  2015-09-25\n",
       "8     2015-12-03  2016-07-15\n",
       "9     2016-10-14  2022-05-18\n",
       "10    2022-07-22     ongoing"
      ]
     },
     "execution_count": 62,
     "metadata": {},
     "output_type": "execute_result"
    }
   ],
   "source": [
    "termdata"
   ]
  },
  {
   "cell_type": "markdown",
   "metadata": {},
   "source": [
    "# Terms (line 438):\n",
    "\n",
    "path: `/teiCorpus/teiHeader/profileDesc/particDesc/listOrg/org[2]/listEvent`"
   ]
  },
  {
   "cell_type": "code",
   "execution_count": 63,
   "metadata": {},
   "outputs": [],
   "source": [
    "listEvent = Element(\"listEvent\")\n",
    "head = SubElement(listEvent, \"head\")\n",
    "head.set(\"xml:lang\", \"hr\")\n",
    "head.text = \"Mandatno obdoblje\"\n",
    "head = SubElement(listEvent, \"head\")\n",
    "head.set(\"xml:lang\", \"en\")\n",
    "head.text = \"Legislative period\"\n",
    "\n",
    "for i, row in termdata.iterrows():\n",
    "    event = SubElement(listEvent, \"event\")\n",
    "    event.set(\"xml:id\", f\"HS.{i}\")\n",
    "    event.set(\"from\", row[\"From\"])\n",
    "    event.set(\"to\", row[\"To\"])\n",
    "    \n",
    "    label = SubElement(event, \"label\")\n",
    "    label.set(\"xml:lang\", \"hr\")\n",
    "    label.text = f\"{i}. mandat\"\n",
    "    label = SubElement(event, \"label\")\n",
    "    label.set(\"xml:lang\", \"en\")\n",
    "    label.text = f\"Term {i}\"\n",
    "listEvent_str = pretty_string(listEvent)\n",
    "listEvent_str = \"\\n\".join(listEvent_str.split(\"\\n\")[1:])\n",
    "# print(listEvent_str)"
   ]
  },
  {
   "cell_type": "markdown",
   "metadata": {},
   "source": [
    "# Parties: line 447\n",
    "\n",
    "path:\n",
    "`/teiCorpus/teiHeader/profileDesc/particDesc/listOrg/org[3:]`"
   ]
  },
  {
   "cell_type": "code",
   "execution_count": 64,
   "metadata": {},
   "outputs": [
    {
     "data": {
      "text/plain": [
       "False"
      ]
     },
     "execution_count": 64,
     "metadata": {},
     "output_type": "execute_result"
    }
   ],
   "source": [
    "\"Hrvatski laburisti\" in mpdf.party"
   ]
  },
  {
   "cell_type": "code",
   "execution_count": 65,
   "metadata": {},
   "outputs": [],
   "source": [
    "partiesdf[\"id\"] = partiesdf.party.apply(transform_abbreviation)\n",
    "\n",
    "partydata = partiesdf[\"party full_name id\".split()].drop_duplicates()\n",
    "\n",
    "orgs = []\n",
    "for i, row in partydata.iterrows():\n",
    "    org = Element(\"org\")\n",
    "    org.set(\"xml:id\", row[\"id\"])\n",
    "    org.set(\"role\", \"parliamentaryGroup\")\n",
    "    orgName = SubElement(org, \"orgName\")\n",
    "    orgName.set(\"full\", \"yes\")\n",
    "    orgName.set(\"xml:lang\", \"hr\")\n",
    "    orgName.text = row[\"full_name\"]\n",
    "    \n",
    "    orgName = SubElement(org, \"orgName\")\n",
    "    orgName.set(\"full\", \"abb\")\n",
    "    orgName.text = row[\"party\"]\n",
    "    orgs.append(org)\n",
    "    \n",
    "# Add nezavisni:\n",
    "org = Element(\"org\")\n",
    "org.set(\"xml:id\", \"party.NEZAVISNI\")\n",
    "org.set(\"role\", \"parliamentaryGroup\")\n",
    "orgName = SubElement(org, \"orgName\")\n",
    "orgName.set(\"full\", \"yes\")\n",
    "orgName.set(\"xml:lang\", \"hr\")\n",
    "orgName.text = \"nezavisni\"\n",
    "orgName = SubElement(org, \"orgName\")\n",
    "orgName.set(\"full\", \"abb\")\n",
    "orgName.text = \"nezavisni\"\n",
    "orgs.append(org)\n",
    "\n",
    "# Add Hrvatski suverenisti:\n",
    "org = Element(\"org\")\n",
    "org.set(\"xml:id\", \"party.HS\")\n",
    "org.set(\"role\", \"parliamentaryGroup\")\n",
    "orgName = SubElement(org, \"orgName\")\n",
    "orgName.set(\"full\", \"yes\")\n",
    "orgName.set(\"xml:lang\", \"hr\")\n",
    "orgName.text = \"Hrvatski Suverenisti\"\n",
    "orgName = SubElement(org, \"orgName\")\n",
    "orgName.set(\"full\", \"abb\")\n",
    "orgName.text = \"HS\"\n",
    "orgs.append(org)\n",
    "\n",
    "# Add Hrvatska konzervativna stranka\n",
    "org = Element(\"org\")\n",
    "org.set(\"xml:id\", \"party.HKS\")\n",
    "org.set(\"role\", \"parliamentaryGroup\")\n",
    "orgName = SubElement(org, \"orgName\")\n",
    "orgName.set(\"full\", \"yes\")\n",
    "orgName.set(\"xml:lang\", \"hr\")\n",
    "orgName.text = \"Hrvatska konzervativna stranka\"\n",
    "orgName = SubElement(org, \"orgName\")\n",
    "orgName.set(\"full\", \"abb\")\n",
    "orgName.text = \"HKS\"\n",
    "orgs.append(org)\n",
    "\n",
    "\n",
    "orgs = [pretty_string(i) for i in orgs]\n",
    "\n",
    "orgstring = \"\\n\".join(\n",
    "    [\"\\n\".join(org.split(\"\\n\")[1:])for org in orgs]\n",
    ")\n",
    "# print(orgstring)"
   ]
  },
  {
   "cell_type": "markdown",
   "metadata": {},
   "source": [
    "# People: line 525\n",
    "\n",
    "path: `/teiCorpus/teiHeader/profileDesc/particDesc/listPerson`"
   ]
  },
  {
   "cell_type": "code",
   "execution_count": 66,
   "metadata": {},
   "outputs": [
    {
     "name": "stdout",
     "output_type": "stream",
     "text": [
      "Vrbat Grgić, Tanja \n",
      " 334    M581\n",
      "524    M582\n",
      "725    M582\n",
      "Name: codemp, dtype: object\n",
      "Lovrić Merzel, Marina \n",
      " 376    M393\n",
      "461    M394\n",
      "Name: codemp, dtype: object\n"
     ]
    }
   ],
   "source": [
    "for name in mpdf.fullname.unique():\n",
    "    if mpdf.loc[mpdf.fullname==name, \"codemp\"].unique().shape[0] != 1:\n",
    "        print(name, \"\\n\", mpdf.loc[mpdf.fullname==name, \"codemp\"])"
   ]
  },
  {
   "cell_type": "code",
   "execution_count": 67,
   "metadata": {},
   "outputs": [],
   "source": [
    "listPerson = []\n",
    "codemps = mpdf.codemp.drop_duplicates()\n",
    "n = 0\n",
    "for i, c in enumerate(codemps):    \n",
    "    subset = mpdf.query(f\"codemp=='{c}'\").reset_index(drop=True)\n",
    "    surname = subset.lastname[0]\n",
    "    forename = subset.firstname[0]\n",
    "    sex = \"M\" if subset.gender[0] == 0 else \"F\"\n",
    "    birth = str(subset.date_of_birth[0])\n",
    "    birth = f\"{birth[0:4]}-{birth[4:6]}-{birth[-2:]}\"\n",
    "    reference_name = f\"{surname.replace(' ', '')}{forename.replace(' ', '')}\"\n",
    "    \n",
    "    person = Element(\"person\")\n",
    "    person.set(\"xml:id\", reference_name)\n",
    "    person.set(\"n\", str(n))\n",
    "    n += 1\n",
    "    persName = SubElement(person, \"persName\")\n",
    "    \n",
    "    buf = SubElement(persName, \"surname\")\n",
    "    buf.text = surname\n",
    "    \n",
    "    buf = SubElement(persName, \"forename\")\n",
    "    buf.text = forename\n",
    "    \n",
    "    buf = SubElement(person, \"sex\")\n",
    "    buf.set(\"value\", sex)\n",
    "    \n",
    "    buf = SubElement(person, \"birth\")\n",
    "    buf.set(\"when\", birth)\n",
    "    \n",
    "\n",
    "    for i, row in subset.drop_duplicates().iterrows():        \n",
    "        ana = SubElement(person, \"affiliation\")\n",
    "        ana.set(\"role\", \"member\")\n",
    "        ana.set(\"ref\", f\"#{transform_abbreviation(row['party'])}\")\n",
    "        \n",
    "        rolename = SubElement(ana, \"roleName\")\n",
    "        rolename.set(\"xml:lang\", \"en\")\n",
    "        rolename.text = \"Member\"\n",
    "\n",
    "        ana = SubElement(person, \"affiliation\")\n",
    "        ana.set(\"role\", \"member\")\n",
    "        ana.set(\"ref\", \"#HS\")\n",
    "        ana.set(\"ana\", f\"#HS.{row['term2']}\")\n",
    "        rolename = SubElement(ana, \"roleName\")\n",
    "        rolename.set(\"xml:lang\", \"en\")\n",
    "        rolename.text = \"MP\"\n",
    "    listPerson.append(person)\n"
   ]
  },
  {
   "cell_type": "code",
   "execution_count": null,
   "metadata": {},
   "outputs": [],
   "source": [
    "listPerson = [\"\\n\".join(pretty_string(p).split(\"\\n\")[1:]) for p in listPerson]\n",
    "listPerson = \"\\n\".join(listPerson)\n"
   ]
  },
  {
   "cell_type": "code",
   "execution_count": null,
   "metadata": {},
   "outputs": [],
   "source": [
    "path_to_term_tmxs = Path(\"../T/\")\n",
    "assert path_to_term_tmxs.exists()\n",
    "\n",
    "\n",
    "xiincludes = \"\"\n",
    "for file in sorted(list(path_to_term_tmxs.glob(\"ParlaMint-HR_T*.xml\"))):\n",
    "    xiincludes += f\"\"\"    <xi:include xmlns:xi=\"http://www.w3.org/2001/XInclude\" href=\"{file.name}\"/>\\n\"\"\"\n"
   ]
  },
  {
   "cell_type": "markdown",
   "metadata": {},
   "source": [
    "# Relations\n",
    "\n",
    "path: `/teiCorpus/teiHeader/profileDesc/particDesc/listOrg/listRelation`"
   ]
  },
  {
   "cell_type": "code",
   "execution_count": null,
   "metadata": {},
   "outputs": [],
   "source": [
    "gb = partiesdf.groupby([\"term2\", \"coalition\"]).agg(\n",
    "    {\n",
    "        \"id\": lambda l: \" \".join(set([\"#\"+i for i in l]))\n",
    "    }\n",
    ")\n",
    "terms = partiesdf.term2.unique()\n",
    "listRelation = \"\"\n",
    "for term in terms:\n",
    "    fromto = termdata.loc[term, :]\n",
    "    ind = (term, 1)\n",
    "    coalition = gb.loc[ind].id\n",
    "    ind = (term, 0)\n",
    "    opposition = gb.loc[ind].id\n",
    "    listRelation += f\"\"\"\n",
    "    <relation name=\"coalition\"\n",
    "            mutual=\"{coalition}\"\n",
    "            from=\"{fromto.From}\"\n",
    "            to=\"{fromto.To}\"\n",
    "            ana=\"#HS.{term}\"/>\n",
    "    <relation name=\"oposition\"\n",
    "            active=\"{opposition}\"\n",
    "            passive=\"#government.HR\"\n",
    "            from=\"{fromto.From}\"\n",
    "            to=\"{fromto.To}\"\n",
    "            ana=\"#HS.{term}\"/>\\n\"\"\"    "
   ]
  },
  {
   "cell_type": "markdown",
   "metadata": {},
   "source": [
    "# Counting extents and tagUsages"
   ]
  },
  {
   "cell_type": "code",
   "execution_count": null,
   "metadata": {},
   "outputs": [],
   "source": [
    "from typing import Union\n",
    "from pathlib import Path\n",
    "def get_extent(path: Union[str, Path]):\n",
    "    if isinstance(path, Path):\n",
    "        assert path.exists()\n",
    "        path = str(path)\n",
    "    namespace= {\n",
    "        \"n\": \"http://www.tei-c.org/ns/1.0\",\n",
    "        \n",
    "    }\n",
    "    termtei = parse(path)\n",
    "    measures = termtei.getroot().findall(\".//n:measure\", namespaces=namespace)\n",
    "    for i in measures:\n",
    "        if i.get(\"unit\") == \"speeches\":\n",
    "            speeches = i.get(\"quantity\")\n",
    "        if i.get(\"unit\") == \"words\":\n",
    "            words = i.get(\"quantity\")\n",
    "    return {\"words\": int(words), \"speeches\": int(speeches)}\n",
    "\n",
    "def get_tagusage(path: Union[str, Path]):\n",
    "    if isinstance(path, Path):\n",
    "        assert path.exists()\n",
    "        path = str(path)\n",
    "    namespace= {\n",
    "        \"n\": \"http://www.tei-c.org/ns/1.0\",\n",
    "        \n",
    "    }\n",
    "    termtei = parse(path)\n",
    "    tagusages = termtei.getroot().findall(\".//n:tagUsage\", namespaces=namespace)\n",
    "    for i in tagusages:\n",
    "        if i.get(\"unit\") == \"speeches\":\n",
    "            speeches = i.get(\"quantity\")\n",
    "        if i.get(\"unit\") == \"words\":\n",
    "            words = i.get(\"quantity\")\n",
    "    return {i.get(\"gi\"): i.get(\"occurs\") for i in tagusages}\n",
    "\n",
    "path_to_term_tmxs = Path(\"../T/\")\n",
    "assert path_to_term_tmxs.exists()\n",
    "\n",
    "\n",
    "extents = []\n",
    "tagusages = []\n",
    "for file in sorted(list(path_to_term_tmxs.glob(\"ParlaMint-HR_T*.xml\"))):\n",
    "    extents.append(get_extent(file))\n",
    "    tagusages.append(get_tagusage(file))\n",
    "\n",
    "tagusage = \"\"\n",
    "import pandas as pd\n",
    "tus = pd.DataFrame(data=tagusages).astype(int)\n",
    "for gi, occurs in tus.sum().items():\n",
    "    tagusage += f\"\"\"<tagUsage gi=\"{gi}\" occurs=\"{occurs}\"/>\\n\"\"\"\n",
    "extent_count = pd.DataFrame(data=extents).astype(int).sum()\n",
    "words = extent_count[\"words\"]\n",
    "speeches = extent_count[\"speeches\"]\n",
    "extent = f\"\"\"<measure unit=\"speeches\" quantity=\"{speeches}\" xml:lang=\"hr\">{f'{speeches:,d}'.replace(',','.')} govora</measure>\n",
    "<measure unit=\"speeches\" quantity=\"{speeches}\" xml:lang=\"en\">{speeches:,d} speeches</measure>\n",
    "<measure unit=\"words\" quantity=\"{words}\" xml:lang=\"hr\">{f'{words:,d}'.replace(',','.')} riječi</measure>\n",
    "<measure unit=\"words\" quantity=\"{words}\" xml:lang=\"en\">{words:,d} words</measure>\n",
    "\"\"\""
   ]
  },
  {
   "cell_type": "markdown",
   "metadata": {},
   "source": [
    "# Putting it all together"
   ]
  },
  {
   "cell_type": "code",
   "execution_count": null,
   "metadata": {},
   "outputs": [],
   "source": [
    "with open(\"../T/ParlaMint-HR_template2.xml\") as f:\n",
    "    content = f.read()\n",
    "from string import Template\n",
    "template = Template(content)\n",
    "filled_in = template.substitute(\n",
    "                    listEvent=listEvent_str,\n",
    "                    orgs=orgstring,\n",
    "                    listPerson = listPerson,\n",
    "                    xiincludes = xiincludes,\n",
    "                    listRelation = listRelation,\n",
    "                    extent = extent,\n",
    "                    tagusage = tagusage\n",
    "                    )\n",
    "\n",
    "with open(\"../T/ParlaMint-HR.xml\", \"w\") as f:\n",
    "    f.write(\n",
    "        filled_in\n",
    "    )"
   ]
  },
  {
   "cell_type": "code",
   "execution_count": null,
   "metadata": {},
   "outputs": [],
   "source": []
  }
 ],
 "metadata": {
  "kernelspec": {
   "display_name": "Python 3.9.7 ('base')",
   "language": "python",
   "name": "python3"
  },
  "language_info": {
   "codemirror_mode": {
    "name": "ipython",
    "version": 3
   },
   "file_extension": ".py",
   "mimetype": "text/x-python",
   "name": "python",
   "nbconvert_exporter": "python",
   "pygments_lexer": "ipython3",
   "version": "3.9.7"
  },
  "orig_nbformat": 4,
  "vscode": {
   "interpreter": {
    "hash": "2d30c88cb7145d662123f76f8c64609bc18e52940d2861adec2407b68f2e334f"
   }
  }
 },
 "nbformat": 4,
 "nbformat_minor": 2
}
