{
 "cells": [
  {
   "cell_type": "code",
   "execution_count": 21,
   "metadata": {},
   "outputs": [
    {
     "name": "stderr",
     "output_type": "stream",
     "text": [
      "mkdir: cannot create directory ‘../S_data’: File exists\n"
     ]
    }
   ],
   "source": [
    "from pathlib import Path\n",
    "import shutil\n",
    "import os\n",
    "\n",
    "location_of_original_data = \"../\"\n",
    "from utils import parse_meta_file, parse_text_file\n",
    "os.system(f\"mkdir {location_of_original_data}S_data\")\n",
    "metafiles = Path(location_of_original_data).glob(\"*_meta.tsv\")\n",
    "for m in metafiles:\n",
    "    metadf = parse_meta_file(str(m.absolute()))\n",
    "    textdf = parse_text_file(str(m.absolute()).replace(\"meta\", \"text\").replace(\".tsv\", \".txt\"))\n",
    "    term = metadf.Term.unique()\n",
    "    assert len(term) == 1, \"More than one term in file!\"\n",
    "    term = term[0]\n",
    "    for session in metadf.Session.unique():\n",
    "        subset = metadf[metadf.Session==session].reset_index(drop=True)\n",
    "        filename = f\"meta_T{term:02}_S{session:02}.tsv\"\n",
    "        subset.to_csv(f\"../S_data/{filename}\",sep=\"\\t\", index=False)\n",
    "        parse_meta_file(f\"../S_data/{filename}\")\n",
    "        ids = subset.ID.values\n",
    "        textsubset = textdf[textdf.ID.isin(ids)].reset_index(drop=True)\n",
    "        textsubset.to_csv(\n",
    "            \"../S_data/\"+filename.replace(\"meta\", \"text\").replace(\"tsv\", \"txt\"),\n",
    "            header=False,\n",
    "            index=False,\n",
    "            sep = \" \"\n",
    "        )\n",
    "        parse_text_file(\"../S_data/\"+filename.replace(\"meta\", \"text\").replace(\"tsv\", \"txt\"))\n",
    "        "
   ]
  },
  {
   "cell_type": "code",
   "execution_count": null,
   "metadata": {},
   "outputs": [],
   "source": []
  }
 ],
 "metadata": {
  "kernelspec": {
   "display_name": "base",
   "language": "python",
   "name": "python3"
  },
  "language_info": {
   "codemirror_mode": {
    "name": "ipython",
    "version": 3
   },
   "file_extension": ".py",
   "mimetype": "text/x-python",
   "name": "python",
   "nbconvert_exporter": "python",
   "pygments_lexer": "ipython3",
   "version": "3.9.7"
  },
  "orig_nbformat": 4,
  "vscode": {
   "interpreter": {
    "hash": "2d30c88cb7145d662123f76f8c64609bc18e52940d2861adec2407b68f2e334f"
   }
  }
 },
 "nbformat": 4,
 "nbformat_minor": 2
}
