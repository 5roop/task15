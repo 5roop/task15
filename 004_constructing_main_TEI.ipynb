{
 "cells": [
  {
   "cell_type": "markdown",
   "metadata": {},
   "source": [
    "# What needs doing:\n",
    "\n",
    "* Count all words and sentences from all terms\n",
    "* Get term limits from wikipedia ✓\n",
    "* Count occurences of body, desc, kinesic... items\n",
    "\n",
    "# Questions for Tomaž/Nikola:\n",
    "\n",
    "* How is validation run?\n",
    "* Do we need to follow the per-term directory and file structure (e.g. ParlaSpeech-HR) or can we preserve the current structure?\n",
    "* What is the deal with relations, coalition field `mutual` for party listing while opposition has `active` and a field `passive #government.hr`?\n",
    "* I don't have the education title (e.g. `<education n=\"6\">stručni prvostupnik sestrinstva</education>`), only years of education.\n",
    "* I don't have the exact dates of terms. I can only infer them from the rest of the data I have (I estimate it from the dates of speeches.)\n",
    "* I get different data for coalition-opposition formations than in the existing main TEI files for term 9.\n",
    "* I need the affiliation>roles, but they are not in the MP datasheet.\n",
    "\n",
    "# Resolved:\n",
    "* ~~Is party `NZ` the same as `nezavisni`?~~ Yes, yes it is.\n",
    "* ~~How to encode when an MP changes parties?~~ Like so:\n",
    "```xml\n",
    "<person xml:id=\"PernarIvan\" n=\"1302\">\n",
    "                  <persName>\n",
    "                     <surname>Pernar</surname>\n",
    "                     <forename>Ivan</forename>\n",
    "                  </persName>\n",
    "                  <sex value=\"M\"/>\n",
    "                  <birth when=\"1985-10-14\"/>\n",
    "                  <education n=\"6\">stručni prvostupnik sestrinstva</education>\n",
    "                  <affiliation role=\"member\" ref=\"#party.Nezavisni\">\n",
    "                     <roleName xml:lang=\"en\">Member</roleName>\n",
    "                  </affiliation>\n",
    "                  <affiliation role=\"member\" ref=\"#HS\" ana=\"#HS.9\">\n",
    "                     <roleName xml:lang=\"en\">MP</roleName>\n",
    "                  </affiliation>\n",
    "```\n",
    "                  \n",
    "Meeting notes\n",
    "* Try running the perl scripts for validation\n",
    "* Fill the extent fields in the main TEI.\n",
    "* Term dates: to be corrected from wikipedia data, construct a new tsv and populate with data.✓\n",
    "* Coalition/Opposition: Go only for `coalition` attribute in parties metadata (.xls file). Check for issues.✓\n",
    "* opposition: passive seems to be always government. Is it tagged in the speeches in any parliament?✓\n",
    "* Re:Education: ask Tomaž.\n",
    "* Affiliation: every MP needs 2: as member of parliament and as member of their party. People like PM need only their party reference. But we do not have them in MP excell file, so this will probably cause validation issues.\n",
    "\n",
    "Tomaž:\n",
    "* Education titles and `n` parameter?\n",
    "* How to date ongoing terms?"
   ]
  },
  {
   "cell_type": "code",
   "execution_count": 39,
   "metadata": {},
   "outputs": [],
   "source": [
    "from typing import Union, List\n",
    "from pathlib import Path\n",
    "pd.set_option('display.max_colwidth', None)\n",
    "pd.set_option('display.max_columns', None)\n",
    "pd.set_option('display.max_rows', None)\n",
    "import pandas as pd\n",
    "\n",
    "directory = \"..\"\n",
    "mp_path = Path(directory) / Path(\"Croatia_MPs_final_ 20220917.xlsx\")\n",
    "parties_path = Path(directory) / Path(\"Croatia_parties_final_20220917.xlsx\")\n",
    "\n",
    "mpdf = pd.read_excel(str(mp_path))\n",
    "termdata = pd.read_csv(\"../terms.csv\").set_index(\"Term\")\n",
    "\n",
    "#Correcting party:NZ to nezavisni\n",
    "# mpdf[\"party\"] = mpdf.party.replace(\"NZ\", \"nezavisni\")\n",
    "partiesdf = pd.read_excel(str(parties_path))\n",
    "# partiesdf[\"party\"] = partiesdf.party.str.replace(\" \", \"_\")\n",
    "\n"
   ]
  },
  {
   "cell_type": "code",
   "execution_count": 40,
   "metadata": {},
   "outputs": [
    {
     "data": {
      "text/html": [
       "<div>\n",
       "<style scoped>\n",
       "    .dataframe tbody tr th:only-of-type {\n",
       "        vertical-align: middle;\n",
       "    }\n",
       "\n",
       "    .dataframe tbody tr th {\n",
       "        vertical-align: top;\n",
       "    }\n",
       "\n",
       "    .dataframe thead th {\n",
       "        text-align: right;\n",
       "    }\n",
       "</style>\n",
       "<table border=\"1\" class=\"dataframe\">\n",
       "  <thead>\n",
       "    <tr style=\"text-align: right;\">\n",
       "      <th></th>\n",
       "      <th>party</th>\n",
       "      <th>full_name</th>\n",
       "    </tr>\n",
       "  </thead>\n",
       "  <tbody>\n",
       "    <tr>\n",
       "      <th>49</th>\n",
       "      <td>BUZ</td>\n",
       "      <td>Blok umirovljenici zajedno</td>\n",
       "    </tr>\n",
       "  </tbody>\n",
       "</table>\n",
       "</div>"
      ],
      "text/plain": [
       "   party                   full_name\n",
       "49   BUZ  Blok umirovljenici zajedno"
      ]
     },
     "execution_count": 40,
     "metadata": {},
     "output_type": "execute_result"
    }
   ],
   "source": [
    "partiesdf.loc[partiesdf.full_name.str.lower().str.contains(\"blok\"), [\"party\", \"full_name\"]]"
   ]
  },
  {
   "cell_type": "code",
   "execution_count": 41,
   "metadata": {},
   "outputs": [
    {
     "data": {
      "text/html": [
       "<div>\n",
       "<style scoped>\n",
       "    .dataframe tbody tr th:only-of-type {\n",
       "        vertical-align: middle;\n",
       "    }\n",
       "\n",
       "    .dataframe tbody tr th {\n",
       "        vertical-align: top;\n",
       "    }\n",
       "\n",
       "    .dataframe thead th {\n",
       "        text-align: right;\n",
       "    }\n",
       "</style>\n",
       "<table border=\"1\" class=\"dataframe\">\n",
       "  <thead>\n",
       "    <tr style=\"text-align: right;\">\n",
       "      <th></th>\n",
       "      <th>party</th>\n",
       "      <th>full_name</th>\n",
       "    </tr>\n",
       "  </thead>\n",
       "  <tbody>\n",
       "    <tr>\n",
       "      <th>101</th>\n",
       "      <td>DP</td>\n",
       "      <td>Domovinski pokret</td>\n",
       "    </tr>\n",
       "  </tbody>\n",
       "</table>\n",
       "</div>"
      ],
      "text/plain": [
       "    party          full_name\n",
       "101    DP  Domovinski pokret"
      ]
     },
     "execution_count": 41,
     "metadata": {},
     "output_type": "execute_result"
    }
   ],
   "source": [
    "partiesdf.loc[partiesdf.full_name.str.lower().str.contains(\"domovinski\"), [\"party\", \"full_name\"]]"
   ]
  },
  {
   "cell_type": "code",
   "execution_count": 42,
   "metadata": {},
   "outputs": [
    {
     "data": {
      "text/html": [
       "<div>\n",
       "<style scoped>\n",
       "    .dataframe tbody tr th:only-of-type {\n",
       "        vertical-align: middle;\n",
       "    }\n",
       "\n",
       "    .dataframe tbody tr th {\n",
       "        vertical-align: top;\n",
       "    }\n",
       "\n",
       "    .dataframe thead th {\n",
       "        text-align: right;\n",
       "    }\n",
       "</style>\n",
       "<table border=\"1\" class=\"dataframe\">\n",
       "  <thead>\n",
       "    <tr style=\"text-align: right;\">\n",
       "      <th></th>\n",
       "      <th>party</th>\n",
       "      <th>full_name</th>\n",
       "    </tr>\n",
       "  </thead>\n",
       "  <tbody>\n",
       "    <tr>\n",
       "      <th>20</th>\n",
       "      <td>Hrvatski laburisti</td>\n",
       "      <td>Hrvatski laburisti – Stranka rada</td>\n",
       "    </tr>\n",
       "    <tr>\n",
       "      <th>36</th>\n",
       "      <td>Hrvatski laburisti</td>\n",
       "      <td>Hrvatski laburisti – Stranka rada</td>\n",
       "    </tr>\n",
       "    <tr>\n",
       "      <th>48</th>\n",
       "      <td>BM365</td>\n",
       "      <td>Bandić Milan 365 - Stranka rada i solidarnosti</td>\n",
       "    </tr>\n",
       "    <tr>\n",
       "      <th>56</th>\n",
       "      <td>Hrvatski laburisti</td>\n",
       "      <td>Hrvatski laburisti – Stranka rada</td>\n",
       "    </tr>\n",
       "    <tr>\n",
       "      <th>69</th>\n",
       "      <td>BM365</td>\n",
       "      <td>Bandić Milan 365 - Stranka rada i solidarnosti</td>\n",
       "    </tr>\n",
       "  </tbody>\n",
       "</table>\n",
       "</div>"
      ],
      "text/plain": [
       "                 party                                       full_name\n",
       "20  Hrvatski laburisti               Hrvatski laburisti – Stranka rada\n",
       "36  Hrvatski laburisti               Hrvatski laburisti – Stranka rada\n",
       "48               BM365  Bandić Milan 365 - Stranka rada i solidarnosti\n",
       "56  Hrvatski laburisti               Hrvatski laburisti – Stranka rada\n",
       "69               BM365  Bandić Milan 365 - Stranka rada i solidarnosti"
      ]
     },
     "execution_count": 42,
     "metadata": {},
     "output_type": "execute_result"
    }
   ],
   "source": [
    "partiesdf.loc[partiesdf.full_name.str.lower().str.contains(\"rada\"), [\"party\", \"full_name\"]]"
   ]
  },
  {
   "cell_type": "code",
   "execution_count": 43,
   "metadata": {},
   "outputs": [
    {
     "data": {
      "text/html": [
       "<div>\n",
       "<style scoped>\n",
       "    .dataframe tbody tr th:only-of-type {\n",
       "        vertical-align: middle;\n",
       "    }\n",
       "\n",
       "    .dataframe tbody tr th {\n",
       "        vertical-align: top;\n",
       "    }\n",
       "\n",
       "    .dataframe thead th {\n",
       "        text-align: right;\n",
       "    }\n",
       "</style>\n",
       "<table border=\"1\" class=\"dataframe\">\n",
       "  <thead>\n",
       "    <tr style=\"text-align: right;\">\n",
       "      <th></th>\n",
       "      <th>codemp</th>\n",
       "      <th>order_id</th>\n",
       "      <th>term1</th>\n",
       "      <th>term2</th>\n",
       "      <th>term_id</th>\n",
       "      <th>type_of_list</th>\n",
       "      <th>fullname</th>\n",
       "      <th>firstname</th>\n",
       "      <th>lastname</th>\n",
       "      <th>party</th>\n",
       "      <th>date_of_birth</th>\n",
       "      <th>year_of_birth</th>\n",
       "      <th>gender</th>\n",
       "      <th>place_of_birth</th>\n",
       "      <th>field_of_study</th>\n",
       "      <th>education_y</th>\n",
       "      <th>constituency</th>\n",
       "      <th>bp_lat</th>\n",
       "      <th>bp_lon</th>\n",
       "    </tr>\n",
       "  </thead>\n",
       "  <tbody>\n",
       "    <tr>\n",
       "      <th>0</th>\n",
       "      <td>M172</td>\n",
       "      <td>1</td>\n",
       "      <td>2000-2003</td>\n",
       "      <td>4</td>\n",
       "      <td>1</td>\n",
       "      <td>normal</td>\n",
       "      <td>Adlešič, Đurđa</td>\n",
       "      <td>Đurđa</td>\n",
       "      <td>Adlešič</td>\n",
       "      <td>HSLS</td>\n",
       "      <td>19600418</td>\n",
       "      <td>1960</td>\n",
       "      <td>1</td>\n",
       "      <td>Bjelovar</td>\n",
       "      <td>1</td>\n",
       "      <td>16</td>\n",
       "      <td>2</td>\n",
       "      <td>45.898797</td>\n",
       "      <td>16.842309</td>\n",
       "    </tr>\n",
       "    <tr>\n",
       "      <th>1</th>\n",
       "      <td>M418</td>\n",
       "      <td>2</td>\n",
       "      <td>2000-2003</td>\n",
       "      <td>4</td>\n",
       "      <td>2</td>\n",
       "      <td>normal</td>\n",
       "      <td>Arlović, Mato</td>\n",
       "      <td>Mato</td>\n",
       "      <td>Arlović</td>\n",
       "      <td>SDP</td>\n",
       "      <td>19521104</td>\n",
       "      <td>1952</td>\n",
       "      <td>0</td>\n",
       "      <td>Oštra Luka, Bosnia and Herzegovina</td>\n",
       "      <td>5</td>\n",
       "      <td>16</td>\n",
       "      <td>5</td>\n",
       "      <td>44.856287</td>\n",
       "      <td>16.662595</td>\n",
       "    </tr>\n",
       "  </tbody>\n",
       "</table>\n",
       "</div>"
      ],
      "text/plain": [
       "  codemp  order_id      term1  term2  term_id type_of_list        fullname  \\\n",
       "0   M172         1  2000-2003      4        1       normal  Adlešič, Đurđa   \n",
       "1   M418         2  2000-2003      4        2       normal   Arlović, Mato   \n",
       "\n",
       "  firstname lastname party date_of_birth  year_of_birth  gender  \\\n",
       "0     Đurđa  Adlešič  HSLS      19600418           1960       1   \n",
       "1      Mato  Arlović   SDP      19521104           1952       0   \n",
       "\n",
       "                       place_of_birth field_of_study education_y constituency  \\\n",
       "0                            Bjelovar              1          16            2   \n",
       "1  Oštra Luka, Bosnia and Herzegovina              5          16            5   \n",
       "\n",
       "      bp_lat     bp_lon  \n",
       "0  45.898797  16.842309  \n",
       "1  44.856287  16.662595  "
      ]
     },
     "execution_count": 43,
     "metadata": {},
     "output_type": "execute_result"
    }
   ],
   "source": [
    "mpdf.head(2)"
   ]
  },
  {
   "cell_type": "code",
   "execution_count": 46,
   "metadata": {},
   "outputs": [
    {
     "data": {
      "text/plain": [
       "(21,)"
      ]
     },
     "execution_count": 46,
     "metadata": {},
     "output_type": "execute_result"
    }
   ],
   "source": [
    "mpdf.party[~mpdf.party.isin(partiesdf.party)].unique().shape"
   ]
  },
  {
   "cell_type": "code",
   "execution_count": 52,
   "metadata": {},
   "outputs": [
    {
     "data": {
      "text/plain": [
       "1    1382\n",
       "Name: codemp, dtype: int64"
      ]
     },
     "execution_count": 52,
     "metadata": {},
     "output_type": "execute_result"
    }
   ],
   "source": [
    "mpdf.groupby([\"term2\", \"fullname\", \"party\"]).count().codemp.value_counts()"
   ]
  },
  {
   "cell_type": "code",
   "execution_count": 47,
   "metadata": {},
   "outputs": [
    {
     "data": {
      "text/plain": [
       "array(['HIP', 'HB', 'HND', 'SNS', 'HKDU', 'nezavisni', 'SDA HR',\n",
       "       'HSP dr. Ante Starčević', 'Most', 'NZ', 'Damir Bajs NL', 'Možemo!',\n",
       "       'Domovinski pokret', 'NL', nan, 'Blok', 'Hrvatski suverenisti',\n",
       "       'SsIP', 'RF', 'Centar', 'HKS'], dtype=object)"
      ]
     },
     "execution_count": 47,
     "metadata": {},
     "output_type": "execute_result"
    }
   ],
   "source": [
    "# set(mpdf.party.unique()) - set(partiesdf.party.unique())\n",
    "mpdf.party[~mpdf.party.isin(partiesdf.party)].unique()"
   ]
  },
  {
   "cell_type": "markdown",
   "metadata": {},
   "source": [
    "# Do we have any MPs that occur in more than one parties?"
   ]
  },
  {
   "cell_type": "code",
   "execution_count": 19,
   "metadata": {},
   "outputs": [
    {
     "data": {
      "text/plain": [
       "54"
      ]
     },
     "execution_count": 19,
     "metadata": {},
     "output_type": "execute_result"
    }
   ],
   "source": [
    "pd.set_option('display.max_colwidth', None)\n",
    "pd.set_option('display.max_columns', None)\n",
    "pd.set_option('display.max_rows', None)\n",
    "gb = mpdf.groupby(\"codemp \".split()).agg({\n",
    "    \"party\": lambda l: set(l)})\n",
    "gb_problematic = gb[gb.party.apply(len) != 1]\n",
    "gb_problematic.shape[0]"
   ]
  },
  {
   "cell_type": "code",
   "execution_count": 20,
   "metadata": {},
   "outputs": [],
   "source": [
    "# problematic_codemps = gb_problematic.index.tolist()\n",
    "\n",
    "# subset = mpdf[mpdf.codemp.isin(problematic_codemps)]\n",
    "# gb = subset.groupby(\"fullname term1 party\".split()).agg({\n",
    "#     \"party\": lambda i: i,\n",
    "    \n",
    "# }\n",
    "# )\n",
    "\n",
    "# gb"
   ]
  },
  {
   "cell_type": "markdown",
   "metadata": {},
   "source": [
    "# Preparing persons:"
   ]
  },
  {
   "cell_type": "code",
   "execution_count": 21,
   "metadata": {},
   "outputs": [],
   "source": [
    "from xml.etree.ElementTree import Element, SubElement, tostring, XML, parse\n",
    "from xml.dom import minidom\n",
    "def pretty_print(s) -> None:\n",
    "    print(minidom.parseString(tostring(s).decode(\"utf\")).toprettyxml(\"\\t\"))\n",
    "def pretty_string(s) -> None:\n",
    "    return minidom.parseString(tostring(s).decode(\"utf\")).toprettyxml(\"\\t\")"
   ]
  },
  {
   "cell_type": "code",
   "execution_count": 22,
   "metadata": {},
   "outputs": [
    {
     "data": {
      "text/plain": [
       "array(['DC', 'HDSSB', 'HDZ', 'HNS', 'HSLS', 'HSP', 'HSS', 'HSU', 'IDS',\n",
       "       'LIBRA', 'LS', 'MDS', 'PGS', 'SBHS', 'SDAH', 'SDP', 'SDSS',\n",
       "       'Hrvatski_laburisti', 'HSD', 'BDSH', 'HGS', 'HSP_AS', 'ID',\n",
       "       'Naprijed_Hrvatska!', 'Novi_val', 'ORaH', 'Reformisti', 'BM365',\n",
       "       'BUZ', 'HDS', 'HRAST', 'HRID', 'MOST', 'NLSP', 'PH', 'Živi_zid',\n",
       "       'GLAS', 'SMSH', 'SNAGA', 'DP', 'ZK', 'SIP', 'Pametno', 'Fokus',\n",
       "       'DZMH', 'KS', 'UARH'], dtype=object)"
      ]
     },
     "execution_count": 22,
     "metadata": {},
     "output_type": "execute_result"
    }
   ],
   "source": [
    "partiesdf.party.unique()"
   ]
  },
  {
   "cell_type": "code",
   "execution_count": 23,
   "metadata": {},
   "outputs": [
    {
     "data": {
      "text/html": [
       "<div>\n",
       "<style scoped>\n",
       "    .dataframe tbody tr th:only-of-type {\n",
       "        vertical-align: middle;\n",
       "    }\n",
       "\n",
       "    .dataframe tbody tr th {\n",
       "        vertical-align: top;\n",
       "    }\n",
       "\n",
       "    .dataframe thead th {\n",
       "        text-align: right;\n",
       "    }\n",
       "</style>\n",
       "<table border=\"1\" class=\"dataframe\">\n",
       "  <thead>\n",
       "    <tr style=\"text-align: right;\">\n",
       "      <th></th>\n",
       "      <th>From</th>\n",
       "      <th>To</th>\n",
       "    </tr>\n",
       "    <tr>\n",
       "      <th>Term</th>\n",
       "      <th></th>\n",
       "      <th></th>\n",
       "    </tr>\n",
       "  </thead>\n",
       "  <tbody>\n",
       "    <tr>\n",
       "      <th>5</th>\n",
       "      <td>2003-12-22</td>\n",
       "      <td>2007-10-12</td>\n",
       "    </tr>\n",
       "    <tr>\n",
       "      <th>6</th>\n",
       "      <td>2008-01-11</td>\n",
       "      <td>2011-10-28</td>\n",
       "    </tr>\n",
       "    <tr>\n",
       "      <th>7</th>\n",
       "      <td>2011-12-22</td>\n",
       "      <td>2015-09-25</td>\n",
       "    </tr>\n",
       "    <tr>\n",
       "      <th>8</th>\n",
       "      <td>2015-12-03</td>\n",
       "      <td>2016-07-15</td>\n",
       "    </tr>\n",
       "    <tr>\n",
       "      <th>9</th>\n",
       "      <td>2016-10-14</td>\n",
       "      <td>2022-05-18</td>\n",
       "    </tr>\n",
       "    <tr>\n",
       "      <th>10</th>\n",
       "      <td>2022-07-22</td>\n",
       "      <td>ongoing</td>\n",
       "    </tr>\n",
       "  </tbody>\n",
       "</table>\n",
       "</div>"
      ],
      "text/plain": [
       "            From          To\n",
       "Term                        \n",
       "5     2003-12-22  2007-10-12\n",
       "6     2008-01-11  2011-10-28\n",
       "7     2011-12-22  2015-09-25\n",
       "8     2015-12-03  2016-07-15\n",
       "9     2016-10-14  2022-05-18\n",
       "10    2022-07-22     ongoing"
      ]
     },
     "execution_count": 23,
     "metadata": {},
     "output_type": "execute_result"
    }
   ],
   "source": [
    "termdata"
   ]
  },
  {
   "cell_type": "markdown",
   "metadata": {},
   "source": [
    "# Terms (line 438):\n",
    "\n",
    "path: `/teiCorpus/teiHeader/profileDesc/particDesc/listOrg/org[2]/listEvent`"
   ]
  },
  {
   "cell_type": "code",
   "execution_count": 24,
   "metadata": {},
   "outputs": [],
   "source": [
    "listEvent = Element(\"listEvent\")\n",
    "head = SubElement(listEvent, \"head\")\n",
    "head.set(\"xml:lang\", \"hr\")\n",
    "head.text = \"Mandatno obdoblje\"\n",
    "head = SubElement(listEvent, \"head\")\n",
    "head.set(\"xml:lang\", \"en\")\n",
    "head.text = \"Legislative period\"\n",
    "\n",
    "for i, row in termdata.iterrows():\n",
    "    event = SubElement(listEvent, \"event\")\n",
    "    event.set(\"xml:id\", f\"HS.{i}\")\n",
    "    event.set(\"from\", row[\"From\"])\n",
    "    event.set(\"to\", row[\"To\"])\n",
    "    \n",
    "    label = SubElement(event, \"label\")\n",
    "    label.set(\"xml:lang\", \"hr\")\n",
    "    label.text = f\"{i}. mandat\"\n",
    "    label = SubElement(event, \"label\")\n",
    "    label.set(\"xml:lang\", \"en\")\n",
    "    label.text = f\"Term {i}\"\n",
    "listEvent_str = pretty_string(listEvent)\n",
    "listEvent_str = \"\\n\".join(listEvent_str.split(\"\\n\")[1:])\n",
    "# print(listEvent_str)"
   ]
  },
  {
   "cell_type": "markdown",
   "metadata": {},
   "source": [
    "# Parties: line 447\n",
    "\n",
    "path:\n",
    "`/teiCorpus/teiHeader/profileDesc/particDesc/listOrg/org[3:]`"
   ]
  },
  {
   "cell_type": "code",
   "execution_count": 25,
   "metadata": {},
   "outputs": [],
   "source": [
    "partiesdf[\"id\"] = partiesdf.party.apply(lambda s: f\"party.{s.replace(' ', '_').upper()}\")\n",
    "\n",
    "partydata = partiesdf[\"party full_name id\".split()].drop_duplicates()\n",
    "\n",
    "orgs = []\n",
    "for i, row in partydata.iterrows():\n",
    "    org = Element(\"org\")\n",
    "    org.set(\"xml:id\", row[\"id\"])\n",
    "    org.set(\"role\", \"parliamentaryGroup\")\n",
    "    orgName = SubElement(org, \"orgName\")\n",
    "    orgName.set(\"full\", \"yes\")\n",
    "    orgName.set(\"xml:lang\", \"hr\")\n",
    "    orgName.text = row[\"full_name\"]\n",
    "    \n",
    "    orgName = SubElement(org, \"orgName\")\n",
    "    orgName.set(\"full\", \"abb\")\n",
    "    orgName.text = row[\"party\"]\n",
    "    orgs.append(org)\n",
    "orgs = [pretty_string(i) for i in orgs]\n",
    "\n",
    "orgstring = \"\\n\".join(\n",
    "    [\"\\n\".join(org.split(\"\\n\")[1:])for org in orgs]\n",
    ")\n",
    "# print(orgstring)"
   ]
  },
  {
   "cell_type": "markdown",
   "metadata": {},
   "source": [
    "# People: line 525\n",
    "\n",
    "path: `/teiCorpus/teiHeader/profileDesc/particDesc/listPerson`"
   ]
  },
  {
   "cell_type": "code",
   "execution_count": 26,
   "metadata": {},
   "outputs": [],
   "source": [
    "people = mpdf.fullname.drop_duplicates()\n",
    "assert people.shape[0] == mpdf.codemp.unique().shape[0], \"People names are not unique!\"\n",
    "listPerson = []\n",
    "for i, p in enumerate(people):\n",
    "    subset = mpdf.query(f\"fullname=='{p}'\").reset_index(drop=True)\n",
    "    surname = subset.lastname[0]\n",
    "    forename = subset.firstname[0]\n",
    "    sex = \"M\" if subset.gender[0] == 0 else \"F\"\n",
    "    birth = str(subset.date_of_birth[0])\n",
    "    birth = f\"{birth[0:4]}-{birth[4:6]}-{birth[-2:]}\"\n",
    "    reference_name = f\"{surname.replace(' ', '')}{forename.replace(' ', '')}\"\n",
    "    \n",
    "    person = Element(\"person\")\n",
    "    person.set(\"xml:id\", reference_name)\n",
    "    persName = SubElement(person, \"persName\")\n",
    "    \n",
    "    buf = SubElement(persName, \"surname\")\n",
    "    buf.text = surname\n",
    "    \n",
    "    buf = SubElement(persName, \"forename\")\n",
    "    buf.text = forename\n",
    "    \n",
    "    buf = SubElement(person, \"sex\")\n",
    "    buf.set(\"value\", sex)\n",
    "    \n",
    "    buf = SubElement(person, \"birth\")\n",
    "    buf.set(\"when\", birth)\n",
    "    \n",
    "    \n",
    "    for i, row in subset.iterrows():        \n",
    "        ana = SubElement(person, \"affiliation\")\n",
    "        ana.set(\"role\", \"member\")\n",
    "        # if f\"#party.{row['party']}\" == \"#party.Hrvatski suverenisti\":\n",
    "        #     print(subset)\n",
    "        ana.set(\"ref\", f\"#party.{row['party']}\".replace(\" \", \"\"))\n",
    "        \n",
    "        rolename = SubElement(ana, \"roleName\")\n",
    "        rolename.set(\"xml:lang\", \"en\")\n",
    "        rolename.text = \"Member\"\n",
    "\n",
    "        ana = SubElement(person, \"affiliation\")\n",
    "        ana.set(\"role\", \"member\")\n",
    "        ana.set(\"ref\", \"#HS\")\n",
    "        ana.set(\"ana\", f\"#HS.{row['term2']}\")\n",
    "        rolename = SubElement(ana, \"roleName\")\n",
    "        rolename.set(\"xml:lang\", \"en\")\n",
    "        rolename.text = \"MP\"\n",
    "    listPerson.append(person)\n"
   ]
  },
  {
   "cell_type": "code",
   "execution_count": 27,
   "metadata": {},
   "outputs": [],
   "source": [
    "# partiesdf.apply(lambda row: row[\"party\"] + \"->\" + row[\"full_name\"], axis=1).unique()"
   ]
  },
  {
   "cell_type": "code",
   "execution_count": 28,
   "metadata": {},
   "outputs": [],
   "source": [
    "# set(mpdf.party.unique()) - set(partiesdf.party.unique())"
   ]
  },
  {
   "cell_type": "code",
   "execution_count": 29,
   "metadata": {},
   "outputs": [],
   "source": [
    "listPerson = [\"\\n\".join(pretty_string(p).split(\"\\n\")[1:]) for p in listPerson]\n",
    "listPerson = \"\\n\".join(listPerson)\n"
   ]
  },
  {
   "cell_type": "code",
   "execution_count": 30,
   "metadata": {},
   "outputs": [],
   "source": [
    "path_to_term_tmxs = Path(\"../T/\")\n",
    "assert path_to_term_tmxs.exists()\n",
    "\n",
    "\n",
    "xiincludes = \"\"\n",
    "for file in sorted(list(path_to_term_tmxs.glob(\"ParlaMint-HR_T*.xml\"))):\n",
    "    xiincludes += f\"\"\"    <xi:include xmlns:xi=\"http://www.w3.org/2001/XInclude\" href=\"{file.name}\"/>\\n\"\"\"\n"
   ]
  },
  {
   "cell_type": "markdown",
   "metadata": {},
   "source": [
    "# Relations\n",
    "\n",
    "path: `/teiCorpus/teiHeader/profileDesc/particDesc/listOrg/listRelation`"
   ]
  },
  {
   "cell_type": "code",
   "execution_count": 31,
   "metadata": {},
   "outputs": [],
   "source": [
    "gb = partiesdf.groupby([\"term2\", \"coalition\"]).agg(\n",
    "    {\n",
    "        \"id\": lambda l: \" \".join(set([\"#\"+i for i in l]))\n",
    "    }\n",
    ")\n",
    "terms = partiesdf.term2.unique()\n",
    "listRelation = \"\"\n",
    "for term in terms:\n",
    "    fromto = termdata.loc[term, :]\n",
    "    ind = (term, 1)\n",
    "    coalition = gb.loc[ind].id\n",
    "    ind = (term, 0)\n",
    "    opposition = gb.loc[ind].id\n",
    "    listRelation += f\"\"\"<relation name=\"coalition\"\n",
    "            mutual=\"{coalition}\"\n",
    "            from=\"{fromto.From}\"\n",
    "            to=\"{fromto.To}\"\n",
    "            ana=\"#HS.{term}\"/>\n",
    "    <relation name=\"oposition\"\n",
    "            active=\"{opposition}\"\n",
    "            passive=\"#government.HR\"\n",
    "            from=\"{fromto.From}\"\n",
    "            to=\"{fromto.To}\"\n",
    "            ana=\"#HS.{term}\"/>\\n\"\"\"    "
   ]
  },
  {
   "cell_type": "markdown",
   "metadata": {},
   "source": [
    "# Counting extents and tagUsages"
   ]
  },
  {
   "cell_type": "code",
   "execution_count": 32,
   "metadata": {},
   "outputs": [],
   "source": [
    "from typing import Union\n",
    "from pathlib import Path\n",
    "def get_extent(path: Union[str, Path]):\n",
    "    if isinstance(path, Path):\n",
    "        assert path.exists()\n",
    "        path = str(path)\n",
    "    namespace= {\n",
    "        \"n\": \"http://www.tei-c.org/ns/1.0\",\n",
    "        \n",
    "    }\n",
    "    termtei = parse(path)\n",
    "    measures = termtei.getroot().findall(\".//n:measure\", namespaces=namespace)\n",
    "    for i in measures:\n",
    "        if i.get(\"unit\") == \"speeches\":\n",
    "            speeches = i.get(\"quantity\")\n",
    "        if i.get(\"unit\") == \"words\":\n",
    "            words = i.get(\"quantity\")\n",
    "    return {\"words\": int(words), \"speeches\": int(speeches)}\n",
    "\n",
    "def get_tagusage(path: Union[str, Path]):\n",
    "    if isinstance(path, Path):\n",
    "        assert path.exists()\n",
    "        path = str(path)\n",
    "    namespace= {\n",
    "        \"n\": \"http://www.tei-c.org/ns/1.0\",\n",
    "        \n",
    "    }\n",
    "    termtei = parse(path)\n",
    "    tagusages = termtei.getroot().findall(\".//n:tagUsage\", namespaces=namespace)\n",
    "    for i in tagusages:\n",
    "        if i.get(\"unit\") == \"speeches\":\n",
    "            speeches = i.get(\"quantity\")\n",
    "        if i.get(\"unit\") == \"words\":\n",
    "            words = i.get(\"quantity\")\n",
    "    return {i.get(\"gi\"): i.get(\"occurs\") for i in tagusages}\n",
    "\n",
    "path_to_term_tmxs = Path(\"../T/\")\n",
    "assert path_to_term_tmxs.exists()\n",
    "\n",
    "\n",
    "extents = []\n",
    "tagusages = []\n",
    "for file in sorted(list(path_to_term_tmxs.glob(\"ParlaMint-HR_T*.xml\"))):\n",
    "    extents.append(get_extent(file))\n",
    "    tagusages.append(get_tagusage(file))\n",
    "\n",
    "tagusage = \"\"\n",
    "import pandas as pd\n",
    "tus = pd.DataFrame(data=tagusages).astype(int)\n",
    "for gi, occurs in tus.sum().items():\n",
    "    tagusage += f\"\"\"<tagUsage gi=\"{gi}\" occurs=\"{occurs}\"/>\\n\"\"\"\n",
    "extent_count = pd.DataFrame(data=extents).astype(int).sum()\n",
    "words = extent_count[\"words\"]\n",
    "speeches = extent_count[\"speeches\"]\n",
    "extent = f\"\"\"<measure unit=\"speeches\" quantity=\"{speeches}\" xml:lang=\"hr\">{f'{speeches:,d}'.replace(',','.')} govora</measure>\n",
    "<measure unit=\"speeches\" quantity=\"{speeches}\" xml:lang=\"en\">{speeches:,d} speeches</measure>\n",
    "<measure unit=\"words\" quantity=\"{words}\" xml:lang=\"hr\">{f'{words:,d}'.replace(',','.')} riječi</measure>\n",
    "<measure unit=\"words\" quantity=\"{words}\" xml:lang=\"en\">{words:,d} words</measure>\n",
    "\"\"\""
   ]
  },
  {
   "cell_type": "markdown",
   "metadata": {},
   "source": [
    "# Putting it all together"
   ]
  },
  {
   "cell_type": "code",
   "execution_count": null,
   "metadata": {},
   "outputs": [],
   "source": [
    "with open(\"../T/ParlaMint-HR_template2.xml\") as f:\n",
    "    content = f.read()\n",
    "from string import Template\n",
    "template = Template(content)\n",
    "filled_in = template.substitute(\n",
    "                    listEvent=listEvent_str,\n",
    "                    orgs=orgstring,\n",
    "                    listPerson = listPerson,\n",
    "                    xiincludes = xiincludes,\n",
    "                    listRelation = listRelation,\n",
    "                    extent = extent,\n",
    "                    tagusage = tagusage\n",
    "                    )\n",
    "\n",
    "with open(\"../T/ParlaMint-HR.xml\", \"w\") as f:\n",
    "    f.write(\n",
    "        filled_in\n",
    "    )"
   ]
  },
  {
   "cell_type": "code",
   "execution_count": null,
   "metadata": {},
   "outputs": [],
   "source": []
  }
 ],
 "metadata": {
  "kernelspec": {
   "display_name": "Python 3.9.7 ('base')",
   "language": "python",
   "name": "python3"
  },
  "language_info": {
   "codemirror_mode": {
    "name": "ipython",
    "version": 3
   },
   "file_extension": ".py",
   "mimetype": "text/x-python",
   "name": "python",
   "nbconvert_exporter": "python",
   "pygments_lexer": "ipython3",
   "version": "3.9.7"
  },
  "orig_nbformat": 4,
  "vscode": {
   "interpreter": {
    "hash": "2d30c88cb7145d662123f76f8c64609bc18e52940d2861adec2407b68f2e334f"
   }
  }
 },
 "nbformat": 4,
 "nbformat_minor": 2
}
